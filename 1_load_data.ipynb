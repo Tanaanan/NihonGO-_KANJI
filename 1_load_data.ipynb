{
 "cells": [
  {
   "cell_type": "code",
   "execution_count": 9,
   "metadata": {},
   "outputs": [],
   "source": [
    "import requests\n",
    "import zipfile\n",
    "import os"
   ]
  },
  {
   "cell_type": "code",
   "execution_count": 10,
   "metadata": {},
   "outputs": [],
   "source": [
    "def load(url, name, filename):\n",
    "    response = requests.get(url, stream=True)  # Stream download for efficiency\n",
    "    if response.status_code == 200:\n",
    "        with open(filename, 'wb') as f:\n",
    "            for chunk in response.iter_content(1024):  # Download in chunks\n",
    "                f.write(chunk)\n",
    "        print(name, 'download complete!')\n",
    "    else:\n",
    "        print('Error downloading file:', response.status_code)"
   ]
  },
  {
   "cell_type": "code",
   "execution_count": 11,
   "metadata": {},
   "outputs": [],
   "source": [
    "url = 'https://firebasestorage.googleapis.com/v0/b/countdown-jobfiar.appspot.com/o/kanji_small.zip?alt=media&token=4167f478-91d1-44cc-8d9b-2425d764be97'\n",
    "model_url = 'https://firebasestorage.googleapis.com/v0/b/countdown-jobfiar.appspot.com/o/vgg16_model.h5?alt=media&token=8f1afebf-fc88-4755-a3b9-aeebc9802544'"
   ]
  },
  {
   "cell_type": "code",
   "execution_count": 12,
   "metadata": {},
   "outputs": [
    {
     "name": "stdout",
     "output_type": "stream",
     "text": [
      "kanji_small download complete!\n",
      "Extraction kanji_small completed!\n"
     ]
    }
   ],
   "source": [
    "load(url, 'kanji_small', 'kanji_small.zip')\n",
    "with zipfile.ZipFile('kanji_small.zip', 'r') as zip_ref:\n",
    "    zip_ref.extractall('./')  # Specify a desired extraction path\n",
    "print('Extraction kanji_small completed!')\n",
    "os.remove(\"./kanji_small.zip\")"
   ]
  },
  {
   "cell_type": "code",
   "execution_count": null,
   "metadata": {},
   "outputs": [],
   "source": [
    "load(model_url, 'model', 'vgg16_model.h5')"
   ]
  },
  {
   "cell_type": "code",
   "execution_count": null,
   "metadata": {},
   "outputs": [],
   "source": [
    "with zipfile.ZipFile('KanjiN5_dataset.zip', 'r') as zip_ref:\n",
    "    zip_ref.extractall('./')\n",
    "print('Extract KanjiN5_dataset completed!')"
   ]
  }
 ],
 "metadata": {
  "kernelspec": {
   "display_name": "dl_env",
   "language": "python",
   "name": "dl_env"
  },
  "language_info": {
   "codemirror_mode": {
    "name": "ipython",
    "version": 3
   },
   "file_extension": ".py",
   "mimetype": "text/x-python",
   "name": "python",
   "nbconvert_exporter": "python",
   "pygments_lexer": "ipython3",
   "version": "3.10.13"
  }
 },
 "nbformat": 4,
 "nbformat_minor": 2
}
