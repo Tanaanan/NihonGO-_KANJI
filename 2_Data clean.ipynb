{
 "cells": [
  {
   "cell_type": "code",
   "execution_count": 27,
   "id": "9674fda5",
   "metadata": {
    "ExecuteTime": {
     "end_time": "2024-03-10T19:09:28.860847Z",
     "start_time": "2024-03-10T19:09:28.794202Z"
    }
   },
   "outputs": [],
   "source": [
    "import os\n",
    "import shutil\n",
    "import glob"
   ]
  },
  {
   "cell_type": "markdown",
   "id": "d74d8c27",
   "metadata": {},
   "source": [
    "### Convert .heic to .png files"
   ]
  },
  {
   "cell_type": "code",
   "execution_count": 28,
   "id": "1cd6ba0b",
   "metadata": {},
   "outputs": [
    {
     "data": {
      "text/plain": [
       "[]"
      ]
     },
     "execution_count": 28,
     "metadata": {},
     "output_type": "execute_result"
    }
   ],
   "source": [
    "files = glob.glob('new labels/*', recursive=True)\n",
    "files"
   ]
  },
  {
   "cell_type": "code",
   "execution_count": 29,
   "id": "1b3686d1",
   "metadata": {
    "ExecuteTime": {
     "end_time": "2024-03-10T09:40:21.856329Z",
     "start_time": "2024-03-10T09:40:21.845327Z"
    },
    "scrolled": true
   },
   "outputs": [],
   "source": [
    "import cv2  \n",
    "import numpy as np  \n",
    "def font_normalization(f_name : str):\n",
    "    image1 = cv2.imread(f_name)  \n",
    "    img = cv2.cvtColor(image1, cv2.COLOR_BGR2GRAY) \n",
    "    ret, thresh1 = cv2.threshold(img, 100, 255, cv2.THRESH_BINARY) \n",
    "    cv2.imwrite(f_name, thresh1)\n",
    "    \n",
    "    "
   ]
  },
  {
   "cell_type": "code",
   "execution_count": 30,
   "id": "4216d66a",
   "metadata": {
    "ExecuteTime": {
     "end_time": "2024-03-10T09:40:22.397476Z",
     "start_time": "2024-03-10T09:40:22.385476Z"
    },
    "scrolled": true
   },
   "outputs": [
    {
     "data": {
      "text/plain": [
       "[]"
      ]
     },
     "execution_count": 30,
     "metadata": {},
     "output_type": "execute_result"
    }
   ],
   "source": [
    "files = glob.glob('kanji_small/Kanji_handon/*.png', recursive=True) # access all img files\n",
    "files"
   ]
  },
  {
   "cell_type": "markdown",
   "id": "0ea6c6c3",
   "metadata": {},
   "source": [
    "### Preprocessing image using binary thershold"
   ]
  },
  {
   "cell_type": "code",
   "execution_count": 31,
   "id": "36cedcb0",
   "metadata": {
    "ExecuteTime": {
     "end_time": "2024-03-10T10:06:08.190059Z",
     "start_time": "2024-03-10T10:06:08.180059Z"
    },
    "scrolled": true
   },
   "outputs": [],
   "source": [
    "# https://stackoverflow.com/questions/18394147/how-to-do-a-recursive-sub-folder-search-and-return-files-in-a-list\n",
    "#get every .png file under my_path (recursively including subdirs):\n",
    "# because of cv2 can't read other folder name except eng name\n",
    "import glob\n",
    "\n",
    "files = glob.glob('kanji_small/Kanji_handon/*.png', recursive=True) # access all img files\n",
    "for _ in files:\n",
    "    font_normalization(_)\n",
    "    print('1',end='')"
   ]
  },
  {
   "cell_type": "code",
   "execution_count": 32,
   "id": "287a0721",
   "metadata": {
    "ExecuteTime": {
     "end_time": "2024-03-10T10:10:55.297685Z",
     "start_time": "2024-03-10T10:09:32.431062Z"
    },
    "scrolled": true
   },
   "outputs": [
    {
     "name": "stdout",
     "output_type": "stream",
     "text": [
      "歓麦雨弐売父詞管ず種酒穀計岸勤短七期た貝究止病庫肉党漁国挙曜岩衆安数修ざ洋述ど械評静け卒波迷不夏雪でん招空じ義授主乗燃泳だ図員黒極失観習は厚庭俵粉守正働楽変血都言な原未奮米緑飯勢許億牛愛革ち児士勉録拝囲派石私をて全活現す移ぐ団往勇悲五し線喜象地区球協弟と木潔知下炭求置帳暑念鉱算低銅系能京君前婦市府列休約確損根己殺苦比章謝和結立交玉恩状妹創貴納汽会民告率競給就速他委犯利展費通布答真息冬階付位戸調査旅険小暗頭尊福責左対異毛陸早脈英属誠希馬気産液打快測底折毒講護旧造過竹議運禁減届所順田塩余仮票社級備男徳参輸軍墓終院帯接相野類州母然済様場補芸始以育昭序遠供宣諸等適承収素室音司眼花器堂友水進幅準組除任毎易川里規似可重宮健賀年絵合案礼祖資平由仁精春略験要性疑紙美山経客顔肥新反力方町県令腸今陛局提号仏代停察害志倉台池基筆依第館熱久版夫話意慣ふめ兄園央落返長辺元ゆ発消ひ争特考臨夜兵治い織よ労従円練ほ訓術自わ字演り材ま鳴子が酸世学風政条き服災俗飛鳥漢ら徒者興十果島あ浴設解び書予衛船ょ印耳午著浅改植残む型敬ぴ均河総ぎ料か存半兼足夕研ぽ村散務認拡張想聖両科ぼ的開黄虫証げ理積詩耕完葉さ群康待欲面っ写検つ討度唱飲単注歯勧職一ぞ綿六万律需追路公博壱信火菜称訳故望せ武九文ね谷悪像養ぬ本整包三牧集づ感青役試ぢ行部角間ご電郡係南入医親上物燈こ板因破固色非末敵に暴品難の語首秋後ぜ声八丁航引高歩薬朝東支雲そ態額景権複日財格茶用命向則金題覚厳界初預富橋皮港冷賞糸必貨買賛遺店貯罪取盟製住陽帰論別着味構視選犬人胃寄走忠紀鉄策営続候起誤心関否標身伝決貸投側貧領遊族柱境満借点童差専課負連蔵説昼輪貿栄例読使横王常仕無妻細銀隊工温生判去受導寺明戦家時荷祝周釈才畑分願防居軽史急星同駅古名深刷晴成際口清作校送永屋断限逆示湖思推宿刊省申師採株識旗増少出体絹幸各益転個辞量我后制達混件祭留目句湯容道切赤功右券氏手是刀画草純神処報昨談席何見照西姉独氷憲週車技芽倍番幹機直統復質焼鏡応寒賃退絶広官る商み歴表舌努強税ぺ延土北程業編農教放二動坂便来敗持善弁食門中孝ゅ登効ぱ有良太典建ぶも百問配拾定最内圧至共千欠得光実へ孫績情式保再お魚天外四林鼻指く救回宗季記事築秒ろ化皇節大油舎弱豊雑れべ曲形老次多勝先海銭う具法女歌助森聞加月近え当白ゃ価ぷ蚕流死在ば臣や"
     ]
    }
   ],
   "source": [
    "# create new folder name as a kanji labels character main folder\n",
    "\n",
    "f_path = './kanji_small/' # original kanji folders\n",
    "\n",
    "folder_name = 'kanji_process' # new folder create save\n",
    "if (os.path.exists(folder_name) == 0):\n",
    "    os.makedirs(folder_name)\n",
    "else:\n",
    "    pass\n",
    "    \n",
    "all_kanji = []\n",
    "i = 0\n",
    "for fn in os.listdir(f_path):\n",
    "    kanji = os.path.join(f_path, fn)\n",
    "    unicode_character = chr(int(fn, 16))  # Convert hexadecimal to Unicode character\n",
    "    kanji_ch = unicode_character.encode('utf-8').decode('utf-8')  # Encode Unicode character to UTF-8 bytes\n",
    "    all_kanji.append(kanji_ch)\n",
    "    \n",
    "    sub_folder_name = os.path.join(folder_name, kanji_ch)\n",
    "    shutil.copytree(kanji, sub_folder_name) \n",
    "    try:\n",
    "        os.remove(sub_folder_name + '/.char.txt') # remove a kanji char.txt file.\n",
    "    #os.copy(kanji, os.path.join(f_path, all_kanji[i])) # rename folder.\n",
    "    except: \n",
    "        pass\n",
    "    \n",
    "    print(all_kanji[i], end='')\n",
    "    i += 1"
   ]
  },
  {
   "cell_type": "code",
   "execution_count": 33,
   "id": "af5adf3b",
   "metadata": {
    "ExecuteTime": {
     "end_time": "2024-03-10T19:10:07.139115Z",
     "start_time": "2024-03-10T19:10:07.128164Z"
    }
   },
   "outputs": [],
   "source": [
    "n5_kanji = [\n",
    "    \"日\", \"一\", \"国\", \"人\", \"年\", \"大\", \"十\", \"二\", \"本\", \"中\",\n",
    "    \"長\", \"出\", \"三\", \"時\", \"行\", \"見\", \"月\", \"分\", \"後\", \"前\",\n",
    "    \"生\", \"五\", \"間\", \"上\", \"東\", \"四\", \"今\", \"金\", \"九\", \"入\",\n",
    "    \"学\", \"高\", \"円\", \"子\", \"外\", \"八\", \"六\", \"下\", \"来\", \"気\",\n",
    "    \"小\", \"七\", \"山\", \"話\", \"女\", \"北\", \"午\", \"百\", \"書\", \"先\",\n",
    "    \"名\", \"川\", \"千\", \"水\", \"半\", \"男\", \"西\", \"電\", \"校\", \"語\",\n",
    "    \"土\", \"木\", \"聞\", \"食\", \"車\", \"何\", \"南\", \"万\", \"毎\", \"白\",\n",
    "    \"天\", \"母\", \"火\", \"右\", \"読\", \"友\", \"左\", \"休\", \"父\", \"雨\", \"明\"\n",
    "]\n"
   ]
  },
  {
   "cell_type": "code",
   "execution_count": 34,
   "id": "0e2f83f9",
   "metadata": {
    "ExecuteTime": {
     "end_time": "2024-03-10T19:10:09.560081Z",
     "start_time": "2024-03-10T19:10:09.547217Z"
    }
   },
   "outputs": [
    {
     "name": "stdout",
     "output_type": "stream",
     "text": [
      "All kanji are contained in database OwO\n"
     ]
    }
   ],
   "source": [
    "# check if n5 kanji is found on database ?\n",
    "left = set(n5_kanji) - set(all_kanji)\n",
    "\n",
    "if len(left) == 0:\n",
    "    print(\"All kanji are contained in database OwO\")\n",
    "else:\n",
    "    print(f\"There are {len(left)} kanji missing on database !\")\n",
    "    print(left)"
   ]
  },
  {
   "cell_type": "code",
   "execution_count": 35,
   "id": "46bf15ea",
   "metadata": {
    "ExecuteTime": {
     "end_time": "2024-03-10T19:10:17.801078Z",
     "start_time": "2024-03-10T19:10:17.794575Z"
    }
   },
   "outputs": [],
   "source": [
    "# create a n5_kanji folder\n",
    "\n",
    "folder_name = './KanjiN5_normalize' # new folder create save\n",
    "all_kanji = './kanji_process'\n",
    "\n",
    "if (os.path.exists(folder_name) == 0):\n",
    "    os.makedirs(folder_name)\n",
    "    "
   ]
  },
  {
   "cell_type": "code",
   "execution_count": 36,
   "id": "6fcda9ea",
   "metadata": {
    "ExecuteTime": {
     "end_time": "2024-03-10T19:10:28.391753Z",
     "start_time": "2024-03-10T19:10:19.715131Z"
    }
   },
   "outputs": [
    {
     "name": "stdout",
     "output_type": "stream",
     "text": [
      "毎語高男校時明国女本書雨西百電月土川友気十午小右北水中二三万一人名子日母話間生長学読木見大四食天東来白外行父山南半分千前左今後何入年出車円下八金五聞先九休火六上七"
     ]
    }
   ],
   "source": [
    "labels_name = \"\"\n",
    "for fd_name in os.listdir(all_kanji):\n",
    "    if fd_name in n5_kanji:\n",
    "        shutil.copytree(os.path.join(all_kanji, fd_name),\n",
    "                        os.path.join(folder_name, fd_name))\n",
    "        print(fd_name, end='')\n",
    "        labels_name += fd_name"
   ]
  },
  {
   "cell_type": "code",
   "execution_count": 37,
   "id": "a2adbbf5",
   "metadata": {
    "ExecuteTime": {
     "end_time": "2024-03-10T19:10:29.974688Z",
     "start_time": "2024-03-10T19:10:29.958930Z"
    }
   },
   "outputs": [
    {
     "data": {
      "text/plain": [
       "\"['毎', '語', '高', '男', '校', '時', '明', '国', '女', '本', '書', '雨', '西', '百', '電', '月', '土', '川', '友', '気', '十', '午', '小', '右', '北', '水', '中', '二', '三', '万', '一', '人', '名', '子', '日', '母', '話', '間', '生', '長', '学', '読', '木', '見', '大', '四', '食', '天', '東', '来', '白', '外', '行', '父', '山', '南', '半', '分', '千', '前', '左', '今', '後', '何', '入', '年', '出', '車', '円', '下', '八', '金', '五', '聞', '先', '九', '休', '火', '六', '上', '七']\""
      ]
     },
     "execution_count": 37,
     "metadata": {},
     "output_type": "execute_result"
    }
   ],
   "source": [
    "labels_name = list(labels_name)\n",
    "str(labels_name)"
   ]
  },
  {
   "cell_type": "code",
   "execution_count": 38,
   "id": "6e7a58a5",
   "metadata": {
    "ExecuteTime": {
     "end_time": "2024-03-10T10:15:57.345045Z",
     "start_time": "2024-03-10T10:15:57.336045Z"
    }
   },
   "outputs": [
    {
     "data": {
      "text/plain": [
       "{0: '毎',\n",
       " 1: '語',\n",
       " 2: '高',\n",
       " 3: '男',\n",
       " 4: '校',\n",
       " 5: '時',\n",
       " 6: '明',\n",
       " 7: '国',\n",
       " 8: '女',\n",
       " 9: '本',\n",
       " 10: '書',\n",
       " 11: '雨',\n",
       " 12: '西',\n",
       " 13: '百',\n",
       " 14: '電',\n",
       " 15: '月',\n",
       " 16: '土',\n",
       " 17: '川',\n",
       " 18: '友',\n",
       " 19: '気',\n",
       " 20: '十',\n",
       " 21: '午',\n",
       " 22: '小',\n",
       " 23: '右',\n",
       " 24: '北',\n",
       " 25: '水',\n",
       " 26: '中',\n",
       " 27: '二',\n",
       " 28: '三',\n",
       " 29: '万',\n",
       " 30: '一',\n",
       " 31: '人',\n",
       " 32: '名',\n",
       " 33: '子',\n",
       " 34: '日',\n",
       " 35: '母',\n",
       " 36: '話',\n",
       " 37: '間',\n",
       " 38: '生',\n",
       " 39: '長',\n",
       " 40: '学',\n",
       " 41: '読',\n",
       " 42: '木',\n",
       " 43: '見',\n",
       " 44: '大',\n",
       " 45: '四',\n",
       " 46: '食',\n",
       " 47: '天',\n",
       " 48: '東',\n",
       " 49: '来',\n",
       " 50: '白',\n",
       " 51: '外',\n",
       " 52: '行',\n",
       " 53: '父',\n",
       " 54: '山',\n",
       " 55: '南',\n",
       " 56: '半',\n",
       " 57: '分',\n",
       " 58: '千',\n",
       " 59: '前',\n",
       " 60: '左',\n",
       " 61: '今',\n",
       " 62: '後',\n",
       " 63: '何',\n",
       " 64: '入',\n",
       " 65: '年',\n",
       " 66: '出',\n",
       " 67: '車',\n",
       " 68: '円',\n",
       " 69: '下',\n",
       " 70: '八',\n",
       " 71: '金',\n",
       " 72: '五',\n",
       " 73: '聞',\n",
       " 74: '先',\n",
       " 75: '九',\n",
       " 76: '休',\n",
       " 77: '火',\n",
       " 78: '六',\n",
       " 79: '上',\n",
       " 80: '七'}"
      ]
     },
     "execution_count": 38,
     "metadata": {},
     "output_type": "execute_result"
    }
   ],
   "source": [
    "# display as dict\n",
    "labels_dict = {}\n",
    "for i in range(len(labels_name)):\n",
    "    labels_dict[i] = labels_name[i]\n",
    "\n",
    "labels_dict    "
   ]
  },
  {
   "cell_type": "code",
   "execution_count": null,
   "id": "3e74bb89",
   "metadata": {},
   "outputs": [],
   "source": []
  }
 ],
 "metadata": {
  "kernelspec": {
   "display_name": "dl_env",
   "language": "python",
   "name": "dl_env"
  },
  "language_info": {
   "codemirror_mode": {
    "name": "ipython",
    "version": 3
   },
   "file_extension": ".py",
   "mimetype": "text/x-python",
   "name": "python",
   "nbconvert_exporter": "python",
   "pygments_lexer": "ipython3",
   "version": "3.10.13"
  }
 },
 "nbformat": 4,
 "nbformat_minor": 5
}
