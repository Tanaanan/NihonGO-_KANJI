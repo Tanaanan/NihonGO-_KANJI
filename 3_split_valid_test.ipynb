{
 "cells": [
  {
   "cell_type": "code",
   "execution_count": null,
   "metadata": {
    "ExecuteTime": {
     "end_time": "2024-02-22T19:36:14.395217Z",
     "start_time": "2024-02-22T19:36:14.389830Z"
    }
   },
   "outputs": [],
   "source": [
    "import os\n",
    "DATASET = './KanjiN5_normalize/'\n",
    "os.mkdir(DATASET+\"Train\")"
   ]
  },
  {
   "cell_type": "code",
   "execution_count": null,
   "id": "e039d21e",
   "metadata": {},
   "outputs": [],
   "source": [
    "# only for unix\n",
    "%mv ./KanjiN5_normalize/* ./KanjiN5_normalize/Train\n",
    "# for windows user move all folder in KanjiN5_normalize to KanjiN5_normalize/Train"
   ]
  },
  {
   "cell_type": "code",
   "execution_count": null,
   "metadata": {
    "ExecuteTime": {
     "end_time": "2024-02-22T19:36:14.795085Z",
     "start_time": "2024-02-22T19:36:14.782005Z"
    }
   },
   "outputs": [],
   "source": [
    "import glob \n",
    "import shutil\n",
    "import os\n",
    "from math import floor, ceil"
   ]
  },
  {
   "cell_type": "code",
   "execution_count": null,
   "metadata": {
    "ExecuteTime": {
     "end_time": "2024-02-22T19:36:15.583843Z",
     "start_time": "2024-02-22T19:36:15.573757Z"
    }
   },
   "outputs": [],
   "source": [
    "Train, Valid, Test = 7, 2, 1 # Ratio size (10)\n",
    "\n",
    "def split_size(Train_ratio, Valid_ratio , Test_ratio, n_img):\n",
    "    Train, Valid, Test = ceil((Train_ratio/10)*n_img) , floor((Valid_ratio/10)*n_img) , floor((Test_ratio/10)*n_img)\n",
    "    Train = Train + (n_img - (Train+Valid+Test)) # beware of missing floor\n",
    "    return Train , Valid , Test"
   ]
  },
  {
   "cell_type": "code",
   "execution_count": null,
   "metadata": {
    "ExecuteTime": {
     "end_time": "2024-02-22T19:36:16.233763Z",
     "start_time": "2024-02-22T19:36:16.223678Z"
    }
   },
   "outputs": [],
   "source": [
    "train_folder = os.path.join(DATASET, \"Train\")\n",
    "try:\n",
    "    valid_folder = os.path.join(DATASET, \"Valid\")\n",
    "    test_folder = os.path.join(DATASET, \"Test\")\n",
    "except:\n",
    "    pass\n",
    "\n",
    "if not os.path.exists(os.path.join(DATASET, \"Valid\")):\n",
    "    os.mkdir(os.path.join(DATASET, \"Valid\"))\n",
    "    valid_folder = os.path.join(DATASET, \"Valid\")\n",
    "\n",
    "if not os.path.exists(os.path.join(DATASET, \"Test\")):\n",
    "    os.mkdir(os.path.join(DATASET, \"Test\"))\n",
    "    test_folder = os.path.join(DATASET, \"Test\")\n",
    "\n",
    "# for i in range(len(CATAGORIES)):\n",
    "#     os.mkdir()"
   ]
  },
  {
   "cell_type": "code",
   "execution_count": null,
   "metadata": {
    "ExecuteTime": {
     "end_time": "2024-02-22T19:36:22.404815Z",
     "start_time": "2024-02-22T19:36:22.399397Z"
    }
   },
   "outputs": [],
   "source": [
    "CATAGORIES = [name for name in os.listdir(train_folder)]\n",
    "CATAGORIES, len(CATAGORIES)"
   ]
  },
  {
   "cell_type": "code",
   "execution_count": null,
   "metadata": {
    "ExecuteTime": {
     "end_time": "2024-02-22T19:36:24.948425Z",
     "start_time": "2024-02-22T19:36:24.931574Z"
    }
   },
   "outputs": [],
   "source": [
    "print(CATAGORIES)"
   ]
  },
  {
   "cell_type": "code",
   "execution_count": null,
   "metadata": {
    "ExecuteTime": {
     "end_time": "2024-02-22T19:36:33.276155Z",
     "start_time": "2024-02-22T19:36:33.269173Z"
    }
   },
   "outputs": [],
   "source": [
    "try:\n",
    "    # create label folder in valid and test folder\n",
    "    for label_folder in (CATAGORIES):\n",
    "        os.mkdir(os.path.join(valid_folder, label_folder))\n",
    "        os.mkdir(os.path.join(test_folder, label_folder))\n",
    "except FileExistsError:\n",
    "    print(\"Already make label folder dir !\")"
   ]
  },
  {
   "cell_type": "code",
   "execution_count": null,
   "metadata": {
    "ExecuteTime": {
     "end_time": "2024-02-22T19:36:36.278659Z",
     "start_time": "2024-02-22T19:36:34.649066Z"
    }
   },
   "outputs": [],
   "source": [
    "# split img from train set to validation and test set on fixed ratio.\n",
    "for label_folder in CATAGORIES:\n",
    "    train_path = os.path.join(train_folder, label_folder)\n",
    "    valid_path = os.path.join(valid_folder, label_folder)\n",
    "    test_path = os.path.join(test_folder, label_folder)\n",
    "    file_amout = len([n for n in os.listdir(train_path)])\n",
    "    ratio_split = split_size(Train, Valid, Test, file_amout)\n",
    "    print(ratio_split, label_folder)\n",
    "    tmp = 0\n",
    "    for file in os.listdir(train_path):\n",
    "        if tmp <= ratio_split[2]:\n",
    "            shutil.move(os.path.join(train_path, file), os.path.join(test_path, file))\n",
    "        elif tmp <= ratio_split[1] + ratio_split[2]:\n",
    "            shutil.move(os.path.join(train_path, file), os.path.join(valid_path, file))\n",
    "        else:\n",
    "            break\n",
    "        tmp += 1\n",
    "            \n",
    "\n",
    "        "
   ]
  },
  {
   "cell_type": "code",
   "execution_count": null,
   "metadata": {},
   "outputs": [],
   "source": []
  }
 ],
 "metadata": {
  "kernelspec": {
   "display_name": "dl_env",
   "language": "python",
   "name": "dl_env"
  },
  "language_info": {
   "codemirror_mode": {
    "name": "ipython",
    "version": 3
   },
   "file_extension": ".py",
   "mimetype": "text/x-python",
   "name": "python",
   "nbconvert_exporter": "python",
   "pygments_lexer": "ipython3",
   "version": "3.10.13"
  }
 },
 "nbformat": 4,
 "nbformat_minor": 5
}
