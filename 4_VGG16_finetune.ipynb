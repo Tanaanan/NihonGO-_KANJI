{
 "cells": [
  {
   "cell_type": "code",
   "execution_count": null,
   "id": "807149e5",
   "metadata": {
    "ExecuteTime": {
     "end_time": "2024-03-10T20:05:17.635299Z",
     "start_time": "2024-03-10T20:05:15.443895Z"
    }
   },
   "outputs": [],
   "source": [
    "from tensorflow import keras\n"
   ]
  },
  {
   "cell_type": "code",
   "execution_count": null,
   "id": "2ac4ea89",
   "metadata": {
    "ExecuteTime": {
     "end_time": "2024-03-10T20:05:18.283479Z",
     "start_time": "2024-03-10T20:05:17.636306Z"
    }
   },
   "outputs": [],
   "source": [
    "from __future__ import print_function\n",
    "import random, numpy as np\n",
    "\n",
    "from keras.preprocessing.image import ImageDataGenerator\n",
    "from keras.models import Sequential\n",
    "from keras.utils import image_dataset_from_directory\n",
    "from keras.layers import Dense, Dropout, Activation, Flatten, Rescaling, RandomRotation, RandomFlip, RandomCrop, RandomTranslation, RandomZoom\n",
    "from keras.layers import Conv2D, MaxPooling2D\n",
    "from sklearn.metrics import classification_report\n",
    "from sklearn.metrics import confusion_matrix, ConfusionMatrixDisplay\n",
    "from tensorflow.keras.optimizers import Adam, SGD, RMSprop\n",
    "from keras.callbacks import *\n",
    "\n",
    "from matplotlib.ticker import MaxNLocator\n",
    "import matplotlib.pyplot as plt\n",
    "%matplotlib inline"
   ]
  },
  {
   "cell_type": "code",
   "execution_count": null,
   "id": "f646771d",
   "metadata": {
    "ExecuteTime": {
     "end_time": "2024-03-10T20:05:18.893266Z",
     "start_time": "2024-03-10T20:05:18.807224Z"
    }
   },
   "outputs": [],
   "source": [
    "import tensorflow as tf\n",
    "import keras, tensorflow as tf\n",
    "tf.config.list_physical_devices('GPU')"
   ]
  },
  {
   "cell_type": "markdown",
   "id": "3d67ea4c",
   "metadata": {},
   "source": [
    "## Set random seed"
   ]
  },
  {
   "cell_type": "markdown",
   "id": "389c2eeb",
   "metadata": {},
   "source": [
    "#### กำหนด random seed"
   ]
  },
  {
   "cell_type": "code",
   "execution_count": null,
   "id": "22009e57",
   "metadata": {
    "ExecuteTime": {
     "end_time": "2024-03-10T20:05:19.984823Z",
     "start_time": "2024-03-10T20:05:19.966823Z"
    }
   },
   "outputs": [],
   "source": [
    "import random, os, tensorflow as tf\n",
    "\n",
    "def set_seed(seed_value=12345):\n",
    "    random.seed(seed_value)\n",
    "    np.random.seed(seed_value)\n",
    "    tf.random.set_seed(seed_value)\n",
    "    os.environ['PYTHONHASHSEED'] = str(seed_value)\n",
    "\n",
    "#os.environ['CUDA_VISIBLE_DEVICES'] = '-1'  # to Disable GPU training"
   ]
  },
  {
   "cell_type": "code",
   "execution_count": null,
   "id": "6530db81",
   "metadata": {
    "ExecuteTime": {
     "end_time": "2024-03-10T20:05:20.217203Z",
     "start_time": "2024-03-10T20:05:20.207192Z"
    }
   },
   "outputs": [],
   "source": [
    "import tensorflow as tf\n",
    "tf.__version__"
   ]
  },
  {
   "cell_type": "code",
   "execution_count": null,
   "id": "8fdb24f1",
   "metadata": {
    "ExecuteTime": {
     "end_time": "2024-03-10T20:05:20.789255Z",
     "start_time": "2024-03-10T20:05:20.399099Z"
    }
   },
   "outputs": [],
   "source": [
    "from tensorflow.python.client import device_lib\n",
    "device_lib.list_local_devices()"
   ]
  },
  {
   "cell_type": "code",
   "execution_count": null,
   "id": "91d166ab",
   "metadata": {
    "ExecuteTime": {
     "end_time": "2024-03-10T20:05:20.805254Z",
     "start_time": "2024-03-10T20:05:20.791255Z"
    }
   },
   "outputs": [],
   "source": [
    "print('Default GPU Device:', tf.test.gpu_device_name() or 'None')"
   ]
  },
  {
   "cell_type": "code",
   "execution_count": null,
   "id": "e6d24ac4",
   "metadata": {
    "ExecuteTime": {
     "end_time": "2024-03-10T20:05:20.867637Z",
     "start_time": "2024-03-10T20:05:20.857637Z"
    }
   },
   "outputs": [],
   "source": [
    "data = './KanjiN5_normalize/'"
   ]
  },
  {
   "cell_type": "markdown",
   "id": "1b8f9d7b",
   "metadata": {},
   "source": [
    "## Model Finetuning"
   ]
  },
  {
   "cell_type": "code",
   "execution_count": null,
   "id": "7c907d0a",
   "metadata": {
    "ExecuteTime": {
     "end_time": "2024-03-10T20:05:21.536449Z",
     "start_time": "2024-03-10T20:05:21.529453Z"
    }
   },
   "outputs": [],
   "source": [
    "num_classes = 81\n",
    "batch_size = 64\n",
    "image_size = 120"
   ]
  },
  {
   "cell_type": "markdown",
   "id": "2efd5089",
   "metadata": {},
   "source": [
    "#### ทำ image augmentation โดยใช้ ImageDataGenerator"
   ]
  },
  {
   "cell_type": "code",
   "execution_count": null,
   "id": "56e21db0",
   "metadata": {
    "ExecuteTime": {
     "end_time": "2024-03-10T20:05:22.240564Z",
     "start_time": "2024-03-10T20:05:22.229564Z"
    }
   },
   "outputs": [],
   "source": [
    "data_augmentation = tf.keras.preprocessing.image.ImageDataGenerator(\n",
    "                                                height_shift_range=0.1,\n",
    "                                                width_shift_range=0.1,\n",
    "                                                zoom_range=0.1,\n",
    ") "
   ]
  },
  {
   "cell_type": "markdown",
   "id": "f613274a",
   "metadata": {},
   "source": [
    "#### นำข้อมูลเข้าจาก Train, Validation, Test จาก datasets โดยใช้ flow_from_directory กำหนดขนาดภาพที่ขนาด 120 x 120"
   ]
  },
  {
   "cell_type": "code",
   "execution_count": null,
   "id": "192c9fb9",
   "metadata": {
    "ExecuteTime": {
     "end_time": "2024-03-10T20:05:25.473081Z",
     "start_time": "2024-03-10T20:05:24.972726Z"
    }
   },
   "outputs": [],
   "source": [
    "#https://stackoverflow.com/questions/60927259/keras-flow-from-directory-shuffle-not-working-properly\n",
    "train_ds = data_augmentation.flow_from_directory(\n",
    "    directory=os.path.join(data, \"Train\"),\n",
    "    class_mode='categorical',\n",
    "    batch_size=batch_size,\n",
    "    target_size=(image_size, image_size),\n",
    "    shuffle=True\n",
    ")\n",
    "\n",
    "valid_ds = data_augmentation.flow_from_directory(\n",
    "directory=os.path.join(data, \"Valid\"),\n",
    "class_mode='categorical',\n",
    "batch_size=batch_size,\n",
    "target_size=(image_size, image_size),\n",
    "shuffle=False\n",
    ")\n",
    "\n",
    "test_ds = data_augmentation.flow_from_directory(\n",
    "    directory=os.path.join(data, \"Test\"),\n",
    "    class_mode='categorical',\n",
    "    batch_size=batch_size,\n",
    "    target_size=(image_size, image_size),\n",
    "    shuffle=False\n",
    ")"
   ]
  },
  {
   "cell_type": "code",
   "execution_count": null,
   "id": "4e4c7e0e",
   "metadata": {
    "ExecuteTime": {
     "end_time": "2024-03-10T20:05:26.111893Z",
     "start_time": "2024-03-10T20:05:26.102545Z"
    }
   },
   "outputs": [],
   "source": [
    "from keras.applications.inception_v3 import InceptionV3\n",
    "from keras.applications.vgg16 import VGG16\n",
    "from keras.models import Model\n",
    "from keras.layers import Dense, GlobalAveragePooling2D\n"
   ]
  },
  {
   "cell_type": "markdown",
   "id": "9b047835",
   "metadata": {},
   "source": [
    "#### import VGG16 model จาก keras.applications  เพื่อทำการ fine-tune model\n",
    "#### - กำหนด Dropout ที่ 0.5 และใช้ Output layer เป็น softmax activation function"
   ]
  },
  {
   "cell_type": "code",
   "execution_count": null,
   "id": "a25e4551",
   "metadata": {
    "ExecuteTime": {
     "end_time": "2024-03-10T20:11:10.013997Z",
     "start_time": "2024-03-10T20:11:09.670458Z"
    },
    "scrolled": false
   },
   "outputs": [],
   "source": [
    "base_model = VGG16(weights='imagenet', include_top=False, \n",
    "                   input_shape=(image_size, image_size, 3))\n",
    "\n",
    "base_model.trainable = False\n",
    "\n",
    "x = base_model.output\n",
    "x = GlobalAveragePooling2D()(x)\n",
    "# let's add a fully-connected layer\n",
    "x = Dense(1024, activation='relu')(x)\n",
    "x = Dropout(0.4)(x)\n",
    "# and a logistic layer -- let's say we have 200 classes\n",
    "predictions = Dense(num_classes, activation='softmax')(x)\n",
    "\n",
    "# this is the model we will train\n",
    "model = Model(inputs=base_model.input, outputs=predictions)\n",
    "\n",
    "# first: train only the top layers (which were randomly initialized)\n",
    "#  i.e. freeze all convolutional InceptionV3 layers\n",
    "# for layer in base_model.layers[:-2]:\n",
    "#     layer.trainable = False\n",
    "    \n",
    "# compile the model (should be done *after* setting layers to non-trainable)\n",
    "model.compile(optimizer=\"Adam\", loss='categorical_crossentropy', metrics=['accuracy'])\n",
    "\n",
    "model.summary()"
   ]
  },
  {
   "cell_type": "markdown",
   "id": "a7cade2b",
   "metadata": {},
   "source": [
    "#### ทำการ freeze model  แล้วเทรนโครงสร้าง"
   ]
  },
  {
   "cell_type": "code",
   "execution_count": null,
   "id": "585063b1",
   "metadata": {
    "ExecuteTime": {
     "end_time": "2024-03-10T20:12:47.384121Z",
     "start_time": "2024-03-10T20:11:10.570586Z"
    },
    "scrolled": false
   },
   "outputs": [],
   "source": [
    "epochs = 3\n",
    "model.fit(train_ds, epochs=epochs, validation_data=valid_ds) \n",
    "#add augmentation flow from a directory path"
   ]
  },
  {
   "cell_type": "code",
   "execution_count": null,
   "id": "1880d0dd",
   "metadata": {
    "ExecuteTime": {
     "end_time": "2024-03-10T20:13:19.933106Z",
     "start_time": "2024-03-10T20:13:19.928106Z"
    },
    "scrolled": true
   },
   "outputs": [],
   "source": [
    "# let's visualize layer names and layer indices to see how many layers\n",
    "# we should freeze:\n",
    "for i, layer in enumerate(base_model.layers):\n",
    "   print(i, layer.name)"
   ]
  },
  {
   "cell_type": "markdown",
   "id": "75bcb82f",
   "metadata": {},
   "source": [
    "#### ทำการ unfreezing model เพื่อเทรนกับข้อมูลที่เราต้องการจะทำการ fine tune"
   ]
  },
  {
   "cell_type": "code",
   "execution_count": null,
   "id": "a855d3bd",
   "metadata": {
    "ExecuteTime": {
     "end_time": "2024-03-10T20:13:21.211607Z",
     "start_time": "2024-03-10T20:13:21.202600Z"
    },
    "scrolled": false
   },
   "outputs": [],
   "source": [
    "#https://stackoverflow.com/questions/64227483/what-is-the-right-way-to-gradually-unfreeze-layers-in-neural-network-while-learn\n",
    "# we chose to train the top 2 inception blocks, i.e. we will freeze\n",
    "# the first 249 layers and unfreeze the rest:\n",
    "base_model.trainable = True\n",
    "for layer in model.layers[:15]:\n",
    "    layer.trainable = False\n",
    "    print(layer)\n",
    "# for layer in model.layers[15:]:\n",
    "#    layer.trainable = True\n",
    "#    print(layer)"
   ]
  },
  {
   "cell_type": "code",
   "execution_count": null,
   "id": "1d35abd0",
   "metadata": {
    "ExecuteTime": {
     "end_time": "2024-03-10T19:34:56.415899Z",
     "start_time": "2024-03-10T19:34:55.595876Z"
    }
   },
   "outputs": [],
   "source": [
    "os.mkdir('new_labels_weight')"
   ]
  },
  {
   "cell_type": "markdown",
   "id": "5893c566",
   "metadata": {},
   "source": [
    "#### กำหนด callbacks โดยใช้ EarlyStopping\n",
    "##### - monitering เพื่อที่จะ break จาก validation_accuracy\n",
    "##### -  เก็บ best model ที่ filepath"
   ]
  },
  {
   "cell_type": "code",
   "execution_count": null,
   "id": "72c16c7f",
   "metadata": {
    "ExecuteTime": {
     "end_time": "2024-03-10T20:13:30.037241Z",
     "start_time": "2024-03-10T20:13:30.030237Z"
    }
   },
   "outputs": [],
   "source": [
    "filepath = \"./new_labels_weight/save-{epoch:02d}-{loss:.4f}.h5\"\n",
    "callback = [EarlyStopping(patience=3, monitor='val_accuracy'), \n",
    "        ModelCheckpoint(filepath, monitor='val_accuracy', verbose=1, save_best_only=True, mode='max')]"
   ]
  },
  {
   "cell_type": "code",
   "execution_count": null,
   "id": "a787615a",
   "metadata": {
    "ExecuteTime": {
     "end_time": "2024-03-10T20:24:41.499564Z",
     "start_time": "2024-03-10T20:13:31.903191Z"
    },
    "scrolled": true
   },
   "outputs": [],
   "source": [
    "set_seed(12345)\n",
    "#https://datascience.stackexchange.com/questions/73093/what-does-from-logits-true-do-in-sparsecategoricalcrossentropy-loss-function\n",
    "epochs = 20\n",
    "\n",
    "from keras.optimizers import SGD\n",
    "model.compile(optimizer=keras.optimizers.Adam(learning_rate=1e-6), loss=keras.losses.CategoricalCrossentropy(from_logits=False), metrics=['accuracy'])\n",
    "# when using sigmoid on last Dense we need to set from_logits=False\n",
    "\n",
    "# alongside the top Dense layers\n",
    "history = model.fit(train_ds, epochs=epochs, validation_data=valid_ds, callbacks=callback)"
   ]
  },
  {
   "cell_type": "markdown",
   "id": "912ccf02",
   "metadata": {},
   "source": [
    "## Loss visualization "
   ]
  },
  {
   "cell_type": "code",
   "execution_count": null,
   "id": "46d8716d",
   "metadata": {
    "ExecuteTime": {
     "end_time": "2024-03-10T20:24:46.102574Z",
     "start_time": "2024-03-10T20:24:45.849973Z"
    },
    "scrolled": false
   },
   "outputs": [],
   "source": [
    "# Loss accuracy\n",
    "fig = plt.figure(figsize=(14, 5), dpi=80)\n",
    "ax = fig.add_subplot(1, 2, 1)\n",
    "ax.xaxis.set_major_locator(MaxNLocator(integer=True))\n",
    "ax.plot(history.history['loss'])\n",
    "ax.plot(history.history['val_loss'])\n",
    "ax.set_title('Loss')\n",
    "ax.set_ylabel('loss')\n",
    "ax.set_xlabel('epoch')\n",
    "ax.legend(['train', 'val'], loc='upper right')\n",
    "\n",
    "ax = fig.add_subplot(1, 2, 2)\n",
    "ax.xaxis.set_major_locator(MaxNLocator(integer=True))\n",
    "ax.plot(history.history['accuracy'])\n",
    "\n",
    "ax.plot(history.history['val_accuracy'])\n",
    "ax.set_title('Accuracy')\n",
    "ax.set_ylabel('accuracy')\n",
    "ax.set_xlabel('epoch')\n",
    "ax.legend(['train', 'val'], loc='lower right')"
   ]
  },
  {
   "cell_type": "code",
   "execution_count": null,
   "id": "fab0f41c",
   "metadata": {
    "ExecuteTime": {
     "end_time": "2024-03-10T20:27:45.352337Z",
     "start_time": "2024-03-10T20:27:10.079549Z"
    }
   },
   "outputs": [],
   "source": [
    "print('Train Loss: {:.6f}, Accuracy: {:.6f}'.format(*model.evaluate(train_ds, verbose=0)))\n",
    "print('Validation Loss: {:.6f}, Accuracy: {:.6f}'.format(*model.evaluate(valid_ds, verbose=0)))\n",
    "print('Test Loss: {:.6f}, Accuracy: {:.6f}'.format(*model.evaluate(test_ds, verbose=0)))\n",
    "\n"
   ]
  },
  {
   "cell_type": "code",
   "execution_count": null,
   "id": "561f4915",
   "metadata": {
    "ExecuteTime": {
     "end_time": "2024-03-10T20:27:48.404038Z",
     "start_time": "2024-03-10T20:27:48.395037Z"
    }
   },
   "outputs": [],
   "source": [
    "test_ds.classes[:10], test_ds.classes[-10:]"
   ]
  },
  {
   "cell_type": "code",
   "execution_count": null,
   "id": "dfe80276",
   "metadata": {
    "ExecuteTime": {
     "end_time": "2024-03-10T20:27:52.740649Z",
     "start_time": "2024-03-10T20:27:48.891947Z"
    }
   },
   "outputs": [],
   "source": [
    "# Generate predictions\n",
    "predictions = model.predict(test_ds)\n",
    "y_pred = np.argmax(predictions, axis=1)\n",
    "\n",
    "# Get true labels\n",
    "true_labels = test_ds.classes\n",
    "\n"
   ]
  },
  {
   "cell_type": "code",
   "execution_count": null,
   "id": "5fee7f92",
   "metadata": {
    "ExecuteTime": {
     "end_time": "2024-03-10T20:27:52.756648Z",
     "start_time": "2024-03-10T20:27:52.742647Z"
    }
   },
   "outputs": [],
   "source": [
    "len(true_labels)"
   ]
  },
  {
   "cell_type": "code",
   "execution_count": null,
   "id": "cba3f9b2",
   "metadata": {
    "ExecuteTime": {
     "end_time": "2024-03-10T20:27:58.814095Z",
     "start_time": "2024-03-10T20:27:52.757648Z"
    }
   },
   "outputs": [],
   "source": [
    "import matplotlib.pyplot as plt\n",
    "import seaborn as sns\n",
    "\n",
    "# Generate confusion matrix\n",
    "cm = confusion_matrix(true_labels, y_pred)\n",
    "# Define class labels (assuming your classes are named '0', '1', ..., '19')\n",
    "class_names = [i for i in range(80)]\n",
    "\n",
    "# Plot confusion matrix\n",
    "plt.figure(figsize=(18, 11))\n",
    "sns.heatmap(cm, annot=True, fmt=\"d\", cmap=\"Blues\", xticklabels=class_names, yticklabels=class_names)\n",
    "plt.title(\"Confusion Matrix\")\n",
    "plt.xlabel(\"Predicted Labels\")\n",
    "plt.ylabel(\"True Labels\")\n",
    "plt.show()\n"
   ]
  },
  {
   "cell_type": "code",
   "execution_count": null,
   "id": "3f993e23",
   "metadata": {
    "ExecuteTime": {
     "end_time": "2024-03-10T20:27:59.873187Z",
     "start_time": "2024-03-10T20:27:59.866191Z"
    }
   },
   "outputs": [],
   "source": [
    "\n",
    "from sklearn.metrics import classification_report\n",
    " "
   ]
  },
  {
   "cell_type": "code",
   "execution_count": null,
   "id": "e366fdfb",
   "metadata": {
    "ExecuteTime": {
     "end_time": "2024-03-10T20:28:00.388298Z",
     "start_time": "2024-03-10T20:28:00.369298Z"
    }
   },
   "outputs": [],
   "source": [
    "# Generate classification report\n",
    "report = classification_report(true_labels, y_pred, target_names=list(train_ds.class_indices.keys()))\n",
    "print(\"Classification Report:\")\n",
    "print(report)"
   ]
  },
  {
   "cell_type": "code",
   "execution_count": null,
   "id": "bd15cd6e",
   "metadata": {},
   "outputs": [],
   "source": [
    "#load a model\n",
    "# from keras.models import load_model\n",
    "# from keras.preprocessing import image\n",
    "# import numpy as np\n",
    "\n",
    "# Load the saved model\n",
    "# model = load_model(\"./Indiannet_weight/save-14-0.1555.h5\")\n",
    "\n",
    "# class_name = ['burger', 'butter_naan', 'chai', 'chapati', 'chole_bhature', 'dal_makhani', 'dhokla', 'fried_rice', 'idli', 'jalebi', 'kaathi_rolls', 'kadai_paneer', 'kulfi', 'masala_dosa', 'momos', 'paani_puri', 'pakode', 'pav_bhaji', 'pizza', 'samosa']\n",
    "\n",
    "# # Load and preprocess the image\n",
    "# img_path = \"./Indiannet_weight/save-14-0.1555.h5\"\n",
    "# img = image.load_img(img_path, target_size=(256, 256))  # adjust target_size as needed\n",
    "# img_array = image.img_to_array(img)\n",
    "# img_array = np.expand_dims(img_array, axis=0)\n",
    "# img_array /= 255.  # Normalize the image data\n",
    "\n",
    "# # Make predictions\n",
    "# predictions = model.predict(img_array)\n",
    "# accuracy_percent = np.max(predictions) * 100\n",
    "\n",
    "# # Print the predicted class\n",
    "# predicted_class = np.argmax(predictions)\n",
    "# print(f\"Predicted class: {class_name[predicted_class]} [{predicted_class}]\")\n",
    "# print(f\"with accuracy {accuracy_percent:.2f} %\")\n"
   ]
  },
  {
   "cell_type": "code",
   "execution_count": null,
   "id": "f2b31065",
   "metadata": {
    "ExecuteTime": {
     "end_time": "2024-03-10T20:28:46.328012Z",
     "start_time": "2024-03-10T20:28:46.107972Z"
    }
   },
   "outputs": [],
   "source": [
    "model.save('vgg16_unfreeze3.h5')"
   ]
  },
  {
   "cell_type": "code",
   "execution_count": null,
   "id": "d65b05c1",
   "metadata": {},
   "outputs": [],
   "source": []
  }
 ],
 "metadata": {
  "kernelspec": {
   "display_name": "dl_env",
   "language": "python",
   "name": "dl_env"
  },
  "language_info": {
   "codemirror_mode": {
    "name": "ipython",
    "version": 3
   },
   "file_extension": ".py",
   "mimetype": "text/x-python",
   "name": "python",
   "nbconvert_exporter": "python",
   "pygments_lexer": "ipython3",
   "version": "3.10.13"
  }
 },
 "nbformat": 4,
 "nbformat_minor": 5
}
