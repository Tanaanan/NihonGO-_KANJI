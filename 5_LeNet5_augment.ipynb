{
 "cells": [
  {
   "cell_type": "code",
   "execution_count": null,
   "id": "a3eecf68-ac6d-4209-b33b-886311a8d372",
   "metadata": {
    "ExecuteTime": {
     "end_time": "2024-03-11T17:36:55.923581Z",
     "start_time": "2024-03-11T17:36:52.983021Z"
    }
   },
   "outputs": [],
   "source": [
    "from __future__ import print_function\n",
    "import random, numpy as np\n",
    "import keras, tensorflow as tf\n",
    "\n",
    "from keras.preprocessing.image import ImageDataGenerator\n",
    "from keras.models import Sequential\n",
    "from keras.utils import image_dataset_from_directory\n",
    "from keras.layers import Dense, Dropout, Activation, Flatten, Rescaling, RandomRotation, RandomFlip, RandomCrop, RandomTranslation\n",
    "from keras.layers import Conv2D, MaxPooling2D\n",
    "from sklearn.metrics import classification_report\n",
    "from sklearn.metrics import confusion_matrix, ConfusionMatrixDisplay\n",
    "from tensorflow.keras.optimizers import Adam, SGD, RMSprop\n",
    "from keras.callbacks import *\n",
    "\n",
    "from matplotlib.ticker import MaxNLocator\n",
    "import matplotlib.pyplot as plt\n",
    "%matplotlib inline"
   ]
  },
  {
   "cell_type": "markdown",
   "id": "c276a610-c774-4d51-8341-25abd6fc8a4c",
   "metadata": {},
   "source": [
    "## Set random seed"
   ]
  },
  {
   "cell_type": "code",
   "execution_count": null,
   "id": "a42df190-17ce-4e7d-817e-362b87894e97",
   "metadata": {
    "ExecuteTime": {
     "end_time": "2024-03-11T17:36:57.945365Z",
     "start_time": "2024-03-11T17:36:57.936809Z"
    }
   },
   "outputs": [],
   "source": [
    "import random, os, tensorflow as tf\n",
    "\n",
    "def set_seed(seed_value=12345):\n",
    "    random.seed(seed_value)\n",
    "    np.random.seed(seed_value)\n",
    "    tf.random.set_seed(seed_value)\n",
    "    os.environ['PYTHONHASHSEED'] = str(seed_value)\n",
    "\n",
    "#os.environ['CUDA_VISIBLE_DEVICES'] = '-1'  # to Disable GPU training"
   ]
  },
  {
   "cell_type": "code",
   "execution_count": null,
   "id": "c408b4ee-48f5-44ee-9b83-9463e97c20e1",
   "metadata": {
    "ExecuteTime": {
     "end_time": "2024-03-11T17:36:59.620036Z",
     "start_time": "2024-03-11T17:36:58.105916Z"
    }
   },
   "outputs": [],
   "source": [
    "print('Default GPU Device:', tf.test.gpu_device_name() or 'None')"
   ]
  },
  {
   "cell_type": "code",
   "execution_count": null,
   "id": "da7d9007-02b7-45ee-85f9-bc9b42e4d963",
   "metadata": {
    "ExecuteTime": {
     "end_time": "2024-03-11T17:36:59.635545Z",
     "start_time": "2024-03-11T17:36:59.622106Z"
    }
   },
   "outputs": [],
   "source": [
    "data = './KanjiN5_normalize'"
   ]
  },
  {
   "cell_type": "markdown",
   "id": "68368e7e-f263-433a-9a88-0e21d285f806",
   "metadata": {},
   "source": [
    "## Model Training"
   ]
  },
  {
   "cell_type": "code",
   "execution_count": null,
   "id": "f8e97642-f88d-40a8-a1a8-a39e5d3a5498",
   "metadata": {
    "ExecuteTime": {
     "end_time": "2024-03-11T17:37:00.305210Z",
     "start_time": "2024-03-11T17:37:00.289143Z"
    }
   },
   "outputs": [],
   "source": [
    "num_classes = 81\n",
    "batch_size = 64\n",
    "image_size = 120"
   ]
  },
  {
   "cell_type": "code",
   "execution_count": null,
   "id": "2658b13b",
   "metadata": {
    "ExecuteTime": {
     "end_time": "2024-03-11T17:37:00.493245Z",
     "start_time": "2024-03-11T17:37:00.478797Z"
    }
   },
   "outputs": [],
   "source": [
    "data_augmentation = tf.keras.preprocessing.image.ImageDataGenerator(\n",
    "                                                height_shift_range=0.1,\n",
    "                                                width_shift_range=0.1,\n",
    "                                                zoom_range=0.1,\n",
    "                                                rescale=1./255\n",
    ")"
   ]
  },
  {
   "cell_type": "code",
   "execution_count": null,
   "id": "e20bc53a-2172-4512-80ce-02dc6674463c",
   "metadata": {
    "ExecuteTime": {
     "end_time": "2024-03-11T17:37:01.318466Z",
     "start_time": "2024-03-11T17:37:00.809473Z"
    }
   },
   "outputs": [],
   "source": [
    "train_ds = data_augmentation.flow_from_directory(\n",
    "    directory=os.path.join(data, \"Train\"),\n",
    "    class_mode='categorical',\n",
    "    batch_size=batch_size,\n",
    "    target_size=(image_size, image_size),\n",
    "    shuffle=True\n",
    ")\n",
    "\n",
    "valid_ds = data_augmentation.flow_from_directory(\n",
    "    directory=os.path.join(data, \"Valid\"),\n",
    "    class_mode='categorical',\n",
    "    batch_size=batch_size,\n",
    "    target_size=(image_size, image_size),\n",
    "    shuffle=False\n",
    ")\n",
    "\n",
    "test_ds = data_augmentation.flow_from_directory(\n",
    "    directory=os.path.join(data, \"Test\"),\n",
    "    class_mode='categorical',\n",
    "    batch_size=batch_size,\n",
    "    target_size=(image_size, image_size),\n",
    "    shuffle=False\n",
    ")"
   ]
  },
  {
   "cell_type": "code",
   "execution_count": null,
   "id": "f5acb7ee-9844-4d6d-ae2e-22793ee2b98d",
   "metadata": {
    "ExecuteTime": {
     "end_time": "2024-03-11T17:37:01.551985Z",
     "start_time": "2024-03-11T17:37:01.320291Z"
    }
   },
   "outputs": [],
   "source": [
    "from tensorflow.keras.models import Model\n",
    "from tensorflow.keras.layers import Input, Conv2D, MaxPooling2D, Dropout, Flatten, Dense, Rescaling\n",
    "from tensorflow.keras.optimizers import Adam\n",
    "\n",
    "model = Sequential([\n",
    "    Conv2D(6, (5,5), input_shape=(image_size, image_size, 3), activation='relu'),\n",
    "    MaxPooling2D(2,2),\n",
    "    Conv2D(16, (5,5), activation='relu'),\n",
    "    MaxPooling2D(2,2),\n",
    "    Dropout(0.25),\n",
    "    Flatten(),\n",
    "    Dense(120, activation='relu'),\n",
    "    Dense(84, activation='relu'),\n",
    "    Dense(num_classes, activation='softmax')\n",
    "])\n",
    "\n",
    "model.compile(optimizer=\"Adam\", loss='categorical_crossentropy', metrics=['accuracy'])"
   ]
  },
  {
   "cell_type": "code",
   "execution_count": null,
   "id": "6ec9299c-4129-4488-a595-d89594509ea6",
   "metadata": {
    "ExecuteTime": {
     "end_time": "2024-03-11T17:37:01.568109Z",
     "start_time": "2024-03-11T17:37:01.553112Z"
    }
   },
   "outputs": [],
   "source": [
    "model.summary()"
   ]
  },
  {
   "cell_type": "code",
   "execution_count": null,
   "id": "d93ab353-571a-4104-acb1-5a2fa85a174c",
   "metadata": {
    "ExecuteTime": {
     "end_time": "2024-03-11T17:37:02.078303Z",
     "start_time": "2024-03-11T17:37:02.070712Z"
    }
   },
   "outputs": [],
   "source": [
    "callback = [keras.callbacks.EarlyStopping(patience=10, monitor='val_loss')]\n",
    "# https://stackoverflow.com/questions/73304934/tensorflow-data-augmentation-gives-a-warning-using-a-while-loop-for-converting\n",
    "# https://medium.com/featurepreneur/data-augmentation-using-keras-preprocessing-layers-6cdc7d49328e"
   ]
  },
  {
   "cell_type": "code",
   "execution_count": null,
   "id": "6aac9a14-c5b9-41ba-90f1-8a82e063b865",
   "metadata": {
    "ExecuteTime": {
     "end_time": "2024-03-11T18:00:09.516494Z",
     "start_time": "2024-03-11T17:37:02.520072Z"
    },
    "scrolled": true
   },
   "outputs": [],
   "source": [
    "epochs = 100\n",
    "earlystop = 1\n",
    "if earlystop:\n",
    "    history = model.fit(train_ds, epochs=epochs, validation_data=valid_ds, callbacks=callback)\n",
    "else:\n",
    "    history = model.fit(train_ds, epochs=epochs, validation_data=valid_ds)"
   ]
  },
  {
   "cell_type": "markdown",
   "id": "54296cdb-395e-4508-a4e6-4a5e66cafc6a",
   "metadata": {},
   "source": [
    "## Loss visualization "
   ]
  },
  {
   "cell_type": "code",
   "execution_count": null,
   "id": "1deb90fb-17d7-4efc-92ff-619bb3e77002",
   "metadata": {
    "ExecuteTime": {
     "end_time": "2024-03-11T18:00:31.280693Z",
     "start_time": "2024-03-11T18:00:31.038101Z"
    }
   },
   "outputs": [],
   "source": [
    "# Loss accuracy\n",
    "fig = plt.figure(figsize=(14, 5), dpi=80)\n",
    "ax = fig.add_subplot(1, 2, 1)\n",
    "ax.xaxis.set_major_locator(MaxNLocator(integer=True))\n",
    "ax.plot(history.history['loss'])\n",
    "ax.plot(history.history['val_loss'])\n",
    "ax.set_title('Loss')\n",
    "ax.set_ylabel('loss')\n",
    "ax.set_xlabel('epoch')\n",
    "ax.legend(['train', 'val'], loc='upper right')\n",
    "\n",
    "ax = fig.add_subplot(1, 2, 2)\n",
    "ax.xaxis.set_major_locator(MaxNLocator(integer=True))\n",
    "ax.plot(history.history['accuracy'])\n",
    "\n",
    "ax.plot(history.history['val_accuracy'])\n",
    "ax.set_title('Accuracy')\n",
    "ax.set_ylabel('accuracy')\n",
    "ax.set_xlabel('epoch')\n",
    "ax.legend(['train', 'val'], loc='lower right')"
   ]
  },
  {
   "cell_type": "code",
   "execution_count": null,
   "id": "550f5a78-3439-4c99-88b3-87cdd236129f",
   "metadata": {
    "ExecuteTime": {
     "end_time": "2024-03-11T18:01:07.707481Z",
     "start_time": "2024-03-11T18:00:34.450491Z"
    }
   },
   "outputs": [],
   "source": [
    "print('Train Loss: {:.6f}, Accuracy: {:.6f}'.format(*model.evaluate(train_ds, verbose=0)))\n",
    "print('Validation Loss: {:.6f}, Accuracy: {:.6f}'.format(*model.evaluate(valid_ds, verbose=0)))\n",
    "print('Test Loss: {:.6f}, Accuracy: {:.6f}'.format(*model.evaluate(test_ds, verbose=0)))\n",
    "\n"
   ]
  },
  {
   "cell_type": "code",
   "execution_count": null,
   "id": "2a871632-e6c2-46dd-b45e-5010df52f353",
   "metadata": {
    "ExecuteTime": {
     "end_time": "2024-03-11T18:01:19.333744Z",
     "start_time": "2024-03-11T18:01:19.325173Z"
    },
    "scrolled": true
   },
   "outputs": [],
   "source": [
    "\n",
    "from sklearn.metrics import classification_report\n",
    " "
   ]
  },
  {
   "cell_type": "markdown",
   "id": "60c0035d-70a9-4eb9-97ee-be24ef3f87e0",
   "metadata": {},
   "source": [
    "## Create Confusion Matrix\n",
    "using seaborn and matplotlib."
   ]
  },
  {
   "cell_type": "code",
   "execution_count": null,
   "id": "3a0ca5da-6927-4b51-bac3-6e4a63a39131",
   "metadata": {
    "ExecuteTime": {
     "end_time": "2024-03-11T18:01:24.465347Z",
     "start_time": "2024-03-11T18:01:20.517475Z"
    }
   },
   "outputs": [],
   "source": [
    "# Generate predictions\n",
    "predictions = model.predict(test_ds)\n",
    "y_pred = np.argmax(predictions, axis=1)\n",
    "\n",
    "# Get true labels\n",
    "true_labels = test_ds.classes\n",
    "\n"
   ]
  },
  {
   "cell_type": "code",
   "execution_count": null,
   "id": "b0b5db33-6420-4907-af82-f375ae5a6550",
   "metadata": {
    "ExecuteTime": {
     "end_time": "2024-03-11T17:31:14.943669Z",
     "start_time": "2024-03-11T17:31:14.924668Z"
    }
   },
   "outputs": [],
   "source": [
    "# Generate classification report\n",
    "report = classification_report(true_labels, y_pred, target_names=list(train_ds.class_indices.keys()))\n",
    "print(\"Classification Report:\")\n",
    "print(report)"
   ]
  },
  {
   "cell_type": "code",
   "execution_count": null,
   "id": "a5d4b9a2-7cc9-4d1f-b99d-763dfe2abab7",
   "metadata": {
    "ExecuteTime": {
     "end_time": "2024-03-11T17:31:22.092428Z",
     "start_time": "2024-03-11T17:31:18.447345Z"
    }
   },
   "outputs": [],
   "source": [
    "y_pred = model.predict(test_ds)\n",
    "y_pred = y_pred.argmax(axis=1)\n",
    "print(y_pred[0:10], type(y_pred))"
   ]
  },
  {
   "cell_type": "code",
   "execution_count": null,
   "id": "eb4492a0-7a6f-4ff1-8138-2901b7284c42",
   "metadata": {
    "ExecuteTime": {
     "end_time": "2024-03-11T17:31:30.039581Z",
     "start_time": "2024-03-11T17:31:23.888469Z"
    }
   },
   "outputs": [],
   "source": [
    "import matplotlib.pyplot as plt\n",
    "import seaborn as sns\n",
    "\n",
    "# Generate confusion matrix\n",
    "cm = confusion_matrix(true_labels, y_pred)\n",
    "# Define class labels (assuming your classes are named '0', '1', ..., '19')\n",
    "class_names = [i for i in range(80)]\n",
    "\n",
    "# Plot confusion matrix\n",
    "plt.figure(figsize=(18, 13))\n",
    "sns.heatmap(cm, annot=True, fmt=\"d\", cmap=\"Blues\", xticklabels=class_names, yticklabels=class_names)\n",
    "plt.title(\"Confusion Matrix\")\n",
    "plt.xlabel(\"Predicted Labels\")\n",
    "plt.ylabel(\"True Labels\")\n",
    "plt.show()\n"
   ]
  },
  {
   "cell_type": "code",
   "execution_count": null,
   "id": "a84f0b04-b340-4ad8-a74f-eb589096d56d",
   "metadata": {
    "ExecuteTime": {
     "end_time": "2024-03-11T18:07:23.592889Z",
     "start_time": "2024-03-11T18:07:23.529179Z"
    }
   },
   "outputs": [],
   "source": [
    "model.save('Lenet5_Dropout2.h5')"
   ]
  },
  {
   "cell_type": "code",
   "execution_count": null,
   "id": "7c5f6c7b",
   "metadata": {},
   "outputs": [],
   "source": []
  }
 ],
 "metadata": {
  "kernelspec": {
   "display_name": "dl_env",
   "language": "python",
   "name": "dl_env"
  },
  "language_info": {
   "codemirror_mode": {
    "name": "ipython",
    "version": 3
   },
   "file_extension": ".py",
   "mimetype": "text/x-python",
   "name": "python",
   "nbconvert_exporter": "python",
   "pygments_lexer": "ipython3",
   "version": "3.10.13"
  }
 },
 "nbformat": 4,
 "nbformat_minor": 5
}
