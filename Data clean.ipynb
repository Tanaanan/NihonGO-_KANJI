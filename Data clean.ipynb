{
 "cells": [
  {
   "cell_type": "code",
   "execution_count": 1,
   "id": "9674fda5",
   "metadata": {
    "ExecuteTime": {
     "end_time": "2024-03-10T19:09:28.860847Z",
     "start_time": "2024-03-10T19:09:28.794202Z"
    }
   },
   "outputs": [
    {
     "ename": "ModuleNotFoundError",
     "evalue": "No module named 'pillow_heif'",
     "output_type": "error",
     "traceback": [
      "\u001b[1;31m---------------------------------------------------------------------------\u001b[0m",
      "\u001b[1;31mModuleNotFoundError\u001b[0m                       Traceback (most recent call last)",
      "\u001b[1;32m~\\AppData\\Local\\Temp\\ipykernel_23308\\1466463319.py\u001b[0m in \u001b[0;36m<module>\u001b[1;34m\u001b[0m\n\u001b[0;32m      3\u001b[0m \u001b[1;32mimport\u001b[0m \u001b[0mglob\u001b[0m\u001b[1;33m\u001b[0m\u001b[1;33m\u001b[0m\u001b[0m\n\u001b[0;32m      4\u001b[0m \u001b[1;32mfrom\u001b[0m \u001b[0mPIL\u001b[0m \u001b[1;32mimport\u001b[0m \u001b[0mImage\u001b[0m\u001b[1;33m\u001b[0m\u001b[1;33m\u001b[0m\u001b[0m\n\u001b[1;32m----> 5\u001b[1;33m \u001b[1;32mfrom\u001b[0m \u001b[0mpillow_heif\u001b[0m \u001b[1;32mimport\u001b[0m \u001b[0mregister_heif_opener\u001b[0m\u001b[1;33m\u001b[0m\u001b[1;33m\u001b[0m\u001b[0m\n\u001b[0m",
      "\u001b[1;31mModuleNotFoundError\u001b[0m: No module named 'pillow_heif'"
     ]
    }
   ],
   "source": [
    "import os\n",
    "import shutil\n",
    "import glob\n",
    "from PIL import Image\n",
    "from pillow_heif import register_heif_opener"
   ]
  },
  {
   "cell_type": "markdown",
   "id": "d74d8c27",
   "metadata": {},
   "source": [
    "### Convert .heic to .png files"
   ]
  },
  {
   "cell_type": "code",
   "execution_count": 2,
   "id": "1cd6ba0b",
   "metadata": {},
   "outputs": [
    {
     "data": {
      "text/plain": [
       "[]"
      ]
     },
     "execution_count": 2,
     "metadata": {},
     "output_type": "execute_result"
    }
   ],
   "source": [
    "files = glob.glob('new labels/*', recursive=True)\n",
    "files"
   ]
  },
  {
   "cell_type": "code",
   "execution_count": 21,
   "id": "0f334451",
   "metadata": {},
   "outputs": [],
   "source": [
    "register_heif_opener()"
   ]
  },
  {
   "cell_type": "code",
   "execution_count": 25,
   "id": "3973e9a3",
   "metadata": {},
   "outputs": [],
   "source": [
    "for f in files:\n",
    "    try:\n",
    "        temp_img = Image.open(f)\n",
    "        png_photo = f.replace('.heic', '.png')\n",
    "        temp_img.save(png_photo)\n",
    "        os.remove(temp_img)\n",
    "    except:\n",
    "        pass\n",
    "    "
   ]
  },
  {
   "cell_type": "code",
   "execution_count": 6,
   "id": "c33c0abc",
   "metadata": {},
   "outputs": [],
   "source": [
    "register_heif_opener()"
   ]
  },
  {
   "cell_type": "code",
   "execution_count": 6,
   "id": "1b3686d1",
   "metadata": {
    "ExecuteTime": {
     "end_time": "2024-03-10T09:40:21.856329Z",
     "start_time": "2024-03-10T09:40:21.845327Z"
    },
    "scrolled": true
   },
   "outputs": [],
   "source": [
    "import cv2  \n",
    "import numpy as np  \n",
    "def font_normalization(f_name : str):\n",
    "    image1 = cv2.imread(f_name)  \n",
    "    img = cv2.cvtColor(image1, cv2.COLOR_BGR2GRAY) \n",
    "    ret, thresh1 = cv2.threshold(img, 100, 255, cv2.THRESH_BINARY) \n",
    "    cv2.imwrite(f_name, thresh1)\n",
    "    \n",
    "    "
   ]
  },
  {
   "cell_type": "code",
   "execution_count": 7,
   "id": "4216d66a",
   "metadata": {
    "ExecuteTime": {
     "end_time": "2024-03-10T09:40:22.397476Z",
     "start_time": "2024-03-10T09:40:22.385476Z"
    },
    "scrolled": true
   },
   "outputs": [
    {
     "data": {
      "text/plain": [
       "['kanji_small/Kanji_handon\\\\20240310_132828.png',\n",
       " 'kanji_small/Kanji_handon\\\\20240310_132831.png',\n",
       " 'kanji_small/Kanji_handon\\\\20240310_132834.png',\n",
       " 'kanji_small/Kanji_handon\\\\20240310_132836.png',\n",
       " 'kanji_small/Kanji_handon\\\\20240310_132842.png',\n",
       " 'kanji_small/Kanji_handon\\\\20240310_132844.png',\n",
       " 'kanji_small/Kanji_handon\\\\20240310_132847.png',\n",
       " 'kanji_small/Kanji_handon\\\\20240310_132849.png',\n",
       " 'kanji_small/Kanji_handon\\\\20240310_132853.png',\n",
       " 'kanji_small/Kanji_handon\\\\20240310_132900.png',\n",
       " 'kanji_small/Kanji_handon\\\\20240310_132903.png',\n",
       " 'kanji_small/Kanji_handon\\\\20240310_132914.png',\n",
       " 'kanji_small/Kanji_handon\\\\20240310_132918.png',\n",
       " 'kanji_small/Kanji_handon\\\\20240310_132921.png',\n",
       " 'kanji_small/Kanji_handon\\\\20240310_132936.png',\n",
       " 'kanji_small/Kanji_handon\\\\20240310_132938.png',\n",
       " 'kanji_small/Kanji_handon\\\\20240310_132942.png',\n",
       " 'kanji_small/Kanji_handon\\\\20240310_132945.png',\n",
       " 'kanji_small/Kanji_handon\\\\20240310_132947.png',\n",
       " 'kanji_small/Kanji_handon\\\\20240310_132950.png',\n",
       " 'kanji_small/Kanji_handon\\\\20240310_132951.png',\n",
       " 'kanji_small/Kanji_handon\\\\20240310_132954.png',\n",
       " 'kanji_small/Kanji_handon\\\\20240310_132956.png',\n",
       " 'kanji_small/Kanji_handon\\\\20240310_132959.png',\n",
       " 'kanji_small/Kanji_handon\\\\20240310_133014.png',\n",
       " 'kanji_small/Kanji_handon\\\\20240310_133022.png',\n",
       " 'kanji_small/Kanji_handon\\\\20240310_133025.png',\n",
       " 'kanji_small/Kanji_handon\\\\20240310_133027.png',\n",
       " 'kanji_small/Kanji_handon\\\\20240310_133030.png',\n",
       " 'kanji_small/Kanji_handon\\\\20240310_133032.png',\n",
       " 'kanji_small/Kanji_handon\\\\20240310_133038.png',\n",
       " 'kanji_small/Kanji_handon\\\\20240310_133046.png',\n",
       " 'kanji_small/Kanji_handon\\\\20240310_133051.png',\n",
       " 'kanji_small/Kanji_handon\\\\20240310_133057.png',\n",
       " 'kanji_small/Kanji_handon\\\\20240310_133100.png',\n",
       " 'kanji_small/Kanji_handon\\\\20240310_133111.png',\n",
       " 'kanji_small/Kanji_handon\\\\20240310_133115.png',\n",
       " 'kanji_small/Kanji_handon\\\\20240310_133121.png',\n",
       " 'kanji_small/Kanji_handon\\\\20240310_133136.png',\n",
       " 'kanji_small/Kanji_handon\\\\20240310_133622.png',\n",
       " 'kanji_small/Kanji_handon\\\\20240310_133625.png',\n",
       " 'kanji_small/Kanji_handon\\\\20240310_133627.png',\n",
       " 'kanji_small/Kanji_handon\\\\20240310_133631.png',\n",
       " 'kanji_small/Kanji_handon\\\\20240310_133633.png',\n",
       " 'kanji_small/Kanji_handon\\\\20240310_133636.png',\n",
       " 'kanji_small/Kanji_handon\\\\20240310_133639.png',\n",
       " 'kanji_small/Kanji_handon\\\\20240310_133642.png',\n",
       " 'kanji_small/Kanji_handon\\\\20240310_133645.png',\n",
       " 'kanji_small/Kanji_handon\\\\20240310_133648.png',\n",
       " 'kanji_small/Kanji_handon\\\\20240310_133653.png',\n",
       " 'kanji_small/Kanji_handon\\\\20240310_133655.png',\n",
       " 'kanji_small/Kanji_handon\\\\20240310_133657.png',\n",
       " 'kanji_small/Kanji_handon\\\\20240310_133659.png',\n",
       " 'kanji_small/Kanji_handon\\\\20240310_133702.png',\n",
       " 'kanji_small/Kanji_handon\\\\20240310_133706.png',\n",
       " 'kanji_small/Kanji_handon\\\\20240310_133708.png',\n",
       " 'kanji_small/Kanji_handon\\\\20240310_133712.png',\n",
       " 'kanji_small/Kanji_handon\\\\20240310_133714.png',\n",
       " 'kanji_small/Kanji_handon\\\\20240310_133718.png',\n",
       " 'kanji_small/Kanji_handon\\\\20240310_133721.png',\n",
       " 'kanji_small/Kanji_handon\\\\20240310_133723.png',\n",
       " 'kanji_small/Kanji_handon\\\\20240310_133726.png',\n",
       " 'kanji_small/Kanji_handon\\\\20240310_133730.png',\n",
       " 'kanji_small/Kanji_handon\\\\20240310_133732.png',\n",
       " 'kanji_small/Kanji_handon\\\\20240310_133757.png',\n",
       " 'kanji_small/Kanji_handon\\\\20240310_133802.png',\n",
       " 'kanji_small/Kanji_handon\\\\20240310_133804.png',\n",
       " 'kanji_small/Kanji_handon\\\\20240310_133807.png',\n",
       " 'kanji_small/Kanji_handon\\\\20240310_133812.png',\n",
       " 'kanji_small/Kanji_handon\\\\20240310_133816.png',\n",
       " 'kanji_small/Kanji_handon\\\\20240310_133819.png',\n",
       " 'kanji_small/Kanji_handon\\\\20240310_133821.png',\n",
       " 'kanji_small/Kanji_handon\\\\20240310_133824.png',\n",
       " 'kanji_small/Kanji_handon\\\\20240310_133845.png',\n",
       " 'kanji_small/Kanji_handon\\\\20240310_133852.png',\n",
       " 'kanji_small/Kanji_handon\\\\20240310_133854.png',\n",
       " 'kanji_small/Kanji_handon\\\\20240310_133856.png',\n",
       " 'kanji_small/Kanji_handon\\\\20240310_133859.png',\n",
       " 'kanji_small/Kanji_handon\\\\20240310_133901.png',\n",
       " 'kanji_small/Kanji_handon\\\\20240310_133904.png',\n",
       " 'kanji_small/Kanji_handon\\\\20240310_133907.png',\n",
       " 'kanji_small/Kanji_handon\\\\20240310_133911.png',\n",
       " 'kanji_small/Kanji_handon\\\\20240310_134251.png',\n",
       " 'kanji_small/Kanji_handon\\\\20240310_134254.png',\n",
       " 'kanji_small/Kanji_handon\\\\20240310_134257.png',\n",
       " 'kanji_small/Kanji_handon\\\\20240310_134259.png',\n",
       " 'kanji_small/Kanji_handon\\\\20240310_134309.png',\n",
       " 'kanji_small/Kanji_handon\\\\20240310_134311.png',\n",
       " 'kanji_small/Kanji_handon\\\\20240310_134314.png',\n",
       " 'kanji_small/Kanji_handon\\\\20240310_134316.png',\n",
       " 'kanji_small/Kanji_handon\\\\20240310_134319.png',\n",
       " 'kanji_small/Kanji_handon\\\\20240310_134325.png',\n",
       " 'kanji_small/Kanji_handon\\\\20240310_134327.png',\n",
       " 'kanji_small/Kanji_handon\\\\20240310_134330.png',\n",
       " 'kanji_small/Kanji_handon\\\\20240310_134334.png',\n",
       " 'kanji_small/Kanji_handon\\\\20240310_134339.png',\n",
       " 'kanji_small/Kanji_handon\\\\20240310_134342.png',\n",
       " 'kanji_small/Kanji_handon\\\\20240310_134344.png',\n",
       " 'kanji_small/Kanji_handon\\\\20240310_134347.png',\n",
       " 'kanji_small/Kanji_handon\\\\20240310_134349.png',\n",
       " 'kanji_small/Kanji_handon\\\\20240310_134352.png',\n",
       " 'kanji_small/Kanji_handon\\\\20240310_134354.png',\n",
       " 'kanji_small/Kanji_handon\\\\20240310_134358.png',\n",
       " 'kanji_small/Kanji_handon\\\\20240310_134400.png',\n",
       " 'kanji_small/Kanji_handon\\\\20240310_134404.png',\n",
       " 'kanji_small/Kanji_handon\\\\20240310_134410.png',\n",
       " 'kanji_small/Kanji_handon\\\\20240310_134412.png',\n",
       " 'kanji_small/Kanji_handon\\\\20240310_134414.png',\n",
       " 'kanji_small/Kanji_handon\\\\20240310_134417.png',\n",
       " 'kanji_small/Kanji_handon\\\\20240310_134420.png',\n",
       " 'kanji_small/Kanji_handon\\\\20240310_134422.png',\n",
       " 'kanji_small/Kanji_handon\\\\20240310_134424.png',\n",
       " 'kanji_small/Kanji_handon\\\\20240310_134428.png',\n",
       " 'kanji_small/Kanji_handon\\\\20240310_134430.png',\n",
       " 'kanji_small/Kanji_handon\\\\20240310_134434.png',\n",
       " 'kanji_small/Kanji_handon\\\\20240310_134438.png',\n",
       " 'kanji_small/Kanji_handon\\\\20240310_134440.png',\n",
       " 'kanji_small/Kanji_handon\\\\20240310_134442.png',\n",
       " 'kanji_small/Kanji_handon\\\\20240310_134444.png',\n",
       " 'kanji_small/Kanji_handon\\\\20240310_134447.png',\n",
       " 'kanji_small/Kanji_handon\\\\20240310_134847.png',\n",
       " 'kanji_small/Kanji_handon\\\\20240310_134849.png',\n",
       " 'kanji_small/Kanji_handon\\\\20240310_134852.png',\n",
       " 'kanji_small/Kanji_handon\\\\20240310_134855.png',\n",
       " 'kanji_small/Kanji_handon\\\\20240310_134857.png',\n",
       " 'kanji_small/Kanji_handon\\\\20240310_134859.png',\n",
       " 'kanji_small/Kanji_handon\\\\20240310_134902.png',\n",
       " 'kanji_small/Kanji_handon\\\\20240310_134904.png',\n",
       " 'kanji_small/Kanji_handon\\\\20240310_134907.png',\n",
       " 'kanji_small/Kanji_handon\\\\20240310_134910.png',\n",
       " 'kanji_small/Kanji_handon\\\\20240310_134913.png',\n",
       " 'kanji_small/Kanji_handon\\\\20240310_134915.png',\n",
       " 'kanji_small/Kanji_handon\\\\20240310_134918.png',\n",
       " 'kanji_small/Kanji_handon\\\\20240310_134921.png',\n",
       " 'kanji_small/Kanji_handon\\\\20240310_134924.png',\n",
       " 'kanji_small/Kanji_handon\\\\20240310_134926.png',\n",
       " 'kanji_small/Kanji_handon\\\\20240310_134929.png',\n",
       " 'kanji_small/Kanji_handon\\\\20240310_134932.png',\n",
       " 'kanji_small/Kanji_handon\\\\20240310_134936.png',\n",
       " 'kanji_small/Kanji_handon\\\\20240310_134939.png',\n",
       " 'kanji_small/Kanji_handon\\\\20240310_134941.png',\n",
       " 'kanji_small/Kanji_handon\\\\20240310_134944.png',\n",
       " 'kanji_small/Kanji_handon\\\\20240310_134949.png',\n",
       " 'kanji_small/Kanji_handon\\\\20240310_134954.png',\n",
       " 'kanji_small/Kanji_handon\\\\20240310_134957.png',\n",
       " 'kanji_small/Kanji_handon\\\\20240310_135000.png',\n",
       " 'kanji_small/Kanji_handon\\\\20240310_135003.png',\n",
       " 'kanji_small/Kanji_handon\\\\20240310_135007.png',\n",
       " 'kanji_small/Kanji_handon\\\\20240310_135010.png',\n",
       " 'kanji_small/Kanji_handon\\\\20240310_135013.png',\n",
       " 'kanji_small/Kanji_handon\\\\20240310_135016.png',\n",
       " 'kanji_small/Kanji_handon\\\\20240310_135022.png',\n",
       " 'kanji_small/Kanji_handon\\\\20240310_135030.png',\n",
       " 'kanji_small/Kanji_handon\\\\20240310_135033.png',\n",
       " 'kanji_small/Kanji_handon\\\\20240310_135038.png',\n",
       " 'kanji_small/Kanji_handon\\\\20240310_135040.png',\n",
       " 'kanji_small/Kanji_handon\\\\20240310_135215.png',\n",
       " 'kanji_small/Kanji_handon\\\\20240310_135218.png',\n",
       " 'kanji_small/Kanji_handon\\\\20240310_135221.png',\n",
       " 'kanji_small/Kanji_handon\\\\20240310_1352299.png']"
      ]
     },
     "execution_count": 7,
     "metadata": {},
     "output_type": "execute_result"
    }
   ],
   "source": [
    "files = glob.glob('kanji_small/Kanji_handon/*.png', recursive=True) # access all img files\n",
    "files"
   ]
  },
  {
   "cell_type": "markdown",
   "id": "0ea6c6c3",
   "metadata": {},
   "source": [
    "### Preprocessing image using binary thershold"
   ]
  },
  {
   "cell_type": "code",
   "execution_count": 29,
   "id": "36cedcb0",
   "metadata": {
    "ExecuteTime": {
     "end_time": "2024-03-10T10:06:08.190059Z",
     "start_time": "2024-03-10T10:06:08.180059Z"
    },
    "scrolled": true
   },
   "outputs": [],
   "source": [
    "# https://stackoverflow.com/questions/18394147/how-to-do-a-recursive-sub-folder-search-and-return-files-in-a-list\n",
    "#get every .png file under my_path (recursively including subdirs):\n",
    "# because of cv2 can't read other folder name except eng name\n",
    "import glob\n",
    "\n",
    "files = glob.glob('kanji_small/Kanji_handon/*.png', recursive=True) # access all img files\n",
    "for _ in files:\n",
    "    font_normalization(_)\n",
    "    print('1',end='')"
   ]
  },
  {
   "cell_type": "code",
   "execution_count": 32,
   "id": "287a0721",
   "metadata": {
    "ExecuteTime": {
     "end_time": "2024-03-10T10:10:55.297685Z",
     "start_time": "2024-03-10T10:09:32.431062Z"
    },
    "scrolled": true
   },
   "outputs": [
    {
     "name": "stdout",
     "output_type": "stream",
     "text": [
      "あいうえおかがきぎくぐけげこごさざしじすずせぜそぞただちぢっつづてでとどなにぬねのはばぱひびぴふぶぷへべぺほぼぽまみむめもゃやゅゆょよらりるれろわをん一丁七万三上下不世両中主久乗九予争事二五交京人仁今仏仕他付代令以仮件任休会伝似位低住体何余作使例供依価便係俗保信修俵倉個倍候借停健側備働像億元兄先光児党入全八公六共兵具典兼内円再写冬冷処出刀分切刊列初判別利制刷券則前創力功加助努労効勇勉動務勝勢勤勧包化北区医十千午半卒協南単博印厚原厳去参友反収取受口古句可台史右号司各合同名后向君否告周味命和品員唱商問善喜営器四回因団囲図固国園土圧在地坂均型基堂報場塩境墓増士声壱売変夏夕外多夜大天太夫央失奮女妹妻姉始委婦子字存孝季学孫守安完宗官定実客宣室宮害家容宿寄富寒察寺対専尊導小少就局居届屋展属山岩岸島川州工左差己市布希師席帯帰帳常幅平年幸幹広序底店府度庫庭康延建弁式弐引弟弱張強当形役往待律後徒従得復徳心必志応忠快念思急性恩息悪悲情想意愛感態慣憲成我戦戸所手才打承技投折招拝拡拾持指挙授採接推提損支改放政故救敗教散敬数整敵文料断新方旅族旗日旧早明易星春昨昭是昼時景晴暑暗暴曜曲書最月有服望朝期木未末本材村条来東板林果柱査栄校株根格案械森植検業極楽構様標権横橋機欠次欲歌歓止正武歩歯歴死残殺母毎毒比毛氏民気水氷永求池決汽河油治法波注泳洋活派流浅浴海消液深混清済減温測港湖湯満準漁演漢潔火災炭点無然焼照熱燃燈父版牛牧物特犬犯状独率玉王現球理生産用田由申男町画界畑留略番異疑病発登白百的皇皮益盟目直相省県真眼着知短石研破確示礼社祖祝神票祭禁福私秋科秒称移程税種穀積究空立章童競竹第筆等答策算管節築米粉精糸系紀約納純紙級素細終組経結給統絵絶絹続綿総緑線編練績織罪置美群義習老考者耕耳聖聞職肉肥育胃能脈腸臣臨自至興舌舎航船良色花芸芽苦英茶草荷菜落葉著蔵薬虫蚕血衆行術衛表補製複西要見規視覚親観角解言計討訓記設許訳証評詞試詩話認語誠誤説読課調談論諸講謝識議護谷豊象貝負財貧貨責貯貴買貸費貿賀賃資賛賞質赤走起足路身車軍転軽輪輸辞農辺近返述迷追退送逆通速造連週進遊運過道達遠適選遺郡部都配酒酸釈里重野量金鉄鉱銀銅銭録鏡長門開間関防限陛院除陸険陽隊階際集雑難雨雪雲電需青静非面革音順預領頭題額顔願類風飛食飯飲養館首馬駅験高魚鳥鳴麦黄黒鼻"
     ]
    }
   ],
   "source": [
    "# create new folder name as a kanji labels character main folder\n",
    "\n",
    "f_path = './kanji_small/' # original kanji folders\n",
    "\n",
    "folder_name = 'kanji_process' # new folder create save\n",
    "if (os.path.exists(folder_name) == 0):\n",
    "    os.makedirs(folder_name)\n",
    "    \n",
    "all_kanji = []\n",
    "i = 0\n",
    "for fn in os.listdir(f_path):\n",
    "    kanji = os.path.join(f_path, fn)\n",
    "    unicode_character = chr(int(fn, 16))  # Convert hexadecimal to Unicode character\n",
    "    kanji_ch = unicode_character.encode('utf-8').decode('utf-8')  # Encode Unicode character to UTF-8 bytes\n",
    "    all_kanji.append(kanji_ch)\n",
    "    \n",
    "    sub_folder_name = os.path.join(folder_name, kanji_ch)\n",
    "    shutil.copytree(kanji, sub_folder_name) \n",
    "    try:\n",
    "        os.remove(sub_folder_name + '/.char.txt') # remove a kanji char.txt file.\n",
    "    #os.copy(kanji, os.path.join(f_path, all_kanji[i])) # rename folder.\n",
    "    except: \n",
    "        pass\n",
    "    \n",
    "    print(all_kanji[i], end='')\n",
    "    i += 1\n",
    "    f.close()"
   ]
  },
  {
   "cell_type": "code",
   "execution_count": 2,
   "id": "af5adf3b",
   "metadata": {
    "ExecuteTime": {
     "end_time": "2024-03-10T19:10:07.139115Z",
     "start_time": "2024-03-10T19:10:07.128164Z"
    }
   },
   "outputs": [],
   "source": [
    "n5_kanji = [\n",
    "    \"日\", \"一\", \"国\", \"人\", \"年\", \"大\", \"十\", \"二\", \"本\", \"中\",\n",
    "    \"長\", \"出\", \"三\", \"時\", \"行\", \"見\", \"月\", \"分\", \"後\", \"前\",\n",
    "    \"生\", \"五\", \"間\", \"上\", \"東\", \"四\", \"今\", \"金\", \"九\", \"入\",\n",
    "    \"学\", \"高\", \"円\", \"子\", \"外\", \"八\", \"六\", \"下\", \"来\", \"気\",\n",
    "    \"小\", \"七\", \"山\", \"話\", \"女\", \"北\", \"午\", \"百\", \"書\", \"先\",\n",
    "    \"名\", \"川\", \"千\", \"水\", \"半\", \"男\", \"西\", \"電\", \"校\", \"語\",\n",
    "    \"土\", \"木\", \"聞\", \"食\", \"車\", \"何\", \"南\", \"万\", \"毎\", \"白\",\n",
    "    \"天\", \"母\", \"火\", \"右\", \"読\", \"友\", \"左\", \"休\", \"父\", \"雨\", \"明\"\n",
    "]\n"
   ]
  },
  {
   "cell_type": "code",
   "execution_count": 3,
   "id": "0e2f83f9",
   "metadata": {
    "ExecuteTime": {
     "end_time": "2024-03-10T19:10:09.560081Z",
     "start_time": "2024-03-10T19:10:09.547217Z"
    }
   },
   "outputs": [
    {
     "ename": "NameError",
     "evalue": "name 'all_kanji' is not defined",
     "output_type": "error",
     "traceback": [
      "\u001b[1;31m---------------------------------------------------------------------------\u001b[0m",
      "\u001b[1;31mNameError\u001b[0m                                 Traceback (most recent call last)",
      "\u001b[1;32m~\\AppData\\Local\\Temp\\ipykernel_23308\\4023109216.py\u001b[0m in \u001b[0;36m<module>\u001b[1;34m\u001b[0m\n\u001b[0;32m      1\u001b[0m \u001b[1;31m# check if n5 kanji is found on database ?\u001b[0m\u001b[1;33m\u001b[0m\u001b[1;33m\u001b[0m\u001b[1;33m\u001b[0m\u001b[0m\n\u001b[1;32m----> 2\u001b[1;33m \u001b[0mleft\u001b[0m \u001b[1;33m=\u001b[0m \u001b[0mset\u001b[0m\u001b[1;33m(\u001b[0m\u001b[0mn5_kanji\u001b[0m\u001b[1;33m)\u001b[0m \u001b[1;33m-\u001b[0m \u001b[0mset\u001b[0m\u001b[1;33m(\u001b[0m\u001b[0mall_kanji\u001b[0m\u001b[1;33m)\u001b[0m\u001b[1;33m\u001b[0m\u001b[1;33m\u001b[0m\u001b[0m\n\u001b[0m\u001b[0;32m      3\u001b[0m \u001b[1;33m\u001b[0m\u001b[0m\n\u001b[0;32m      4\u001b[0m \u001b[1;32mif\u001b[0m \u001b[0mlen\u001b[0m\u001b[1;33m(\u001b[0m\u001b[0mleft\u001b[0m\u001b[1;33m)\u001b[0m \u001b[1;33m==\u001b[0m \u001b[1;36m0\u001b[0m\u001b[1;33m:\u001b[0m\u001b[1;33m\u001b[0m\u001b[1;33m\u001b[0m\u001b[0m\n\u001b[0;32m      5\u001b[0m     \u001b[0mprint\u001b[0m\u001b[1;33m(\u001b[0m\u001b[1;34m\"All kanji are contained in database OwO\"\u001b[0m\u001b[1;33m)\u001b[0m\u001b[1;33m\u001b[0m\u001b[1;33m\u001b[0m\u001b[0m\n",
      "\u001b[1;31mNameError\u001b[0m: name 'all_kanji' is not defined"
     ]
    }
   ],
   "source": [
    "# check if n5 kanji is found on database ?\n",
    "left = set(n5_kanji) - set(all_kanji)\n",
    "\n",
    "if len(left) == 0:\n",
    "    print(\"All kanji are contained in database OwO\")\n",
    "else:\n",
    "    print(f\"There are {len(left)} kanji missing on database !\")\n",
    "    print(left)"
   ]
  },
  {
   "cell_type": "code",
   "execution_count": 4,
   "id": "46bf15ea",
   "metadata": {
    "ExecuteTime": {
     "end_time": "2024-03-10T19:10:17.801078Z",
     "start_time": "2024-03-10T19:10:17.794575Z"
    }
   },
   "outputs": [],
   "source": [
    "# create a n5_kanji folder\n",
    "\n",
    "folder_name = './KanjiN5_dataset' # new folder create save\n",
    "all_kanji = './kanji_process'\n",
    "\n",
    "if (os.path.exists(folder_name) == 0):\n",
    "    os.makedirs(folder_name)\n",
    "    "
   ]
  },
  {
   "cell_type": "code",
   "execution_count": 5,
   "id": "6fcda9ea",
   "metadata": {
    "ExecuteTime": {
     "end_time": "2024-03-10T19:10:28.391753Z",
     "start_time": "2024-03-10T19:10:19.715131Z"
    }
   },
   "outputs": [
    {
     "name": "stdout",
     "output_type": "stream",
     "text": [
      "一七万三上下中九二五人今休何先入八六円出分前北十千午半南友右名四国土外大天女子学小山川左年後日明時書月木本来東校母毎気水火父生男白百聞行西見話語読車金長間雨電食高"
     ]
    }
   ],
   "source": [
    "labels_name = \"\"\n",
    "for fd_name in os.listdir(all_kanji):\n",
    "    if fd_name in n5_kanji:\n",
    "        shutil.copytree(os.path.join(all_kanji, fd_name),\n",
    "                        os.path.join(folder_name, fd_name))\n",
    "        print(fd_name, end='')\n",
    "        labels_name += fd_name"
   ]
  },
  {
   "cell_type": "code",
   "execution_count": 6,
   "id": "a2adbbf5",
   "metadata": {
    "ExecuteTime": {
     "end_time": "2024-03-10T19:10:29.974688Z",
     "start_time": "2024-03-10T19:10:29.958930Z"
    }
   },
   "outputs": [
    {
     "data": {
      "text/plain": [
       "\"['一', '七', '万', '三', '上', '下', '中', '九', '二', '五', '人', '今', '休', '何', '先', '入', '八', '六', '円', '出', '分', '前', '北', '十', '千', '午', '半', '南', '友', '右', '名', '四', '国', '土', '外', '大', '天', '女', '子', '学', '小', '山', '川', '左', '年', '後', '日', '明', '時', '書', '月', '木', '本', '来', '東', '校', '母', '毎', '気', '水', '火', '父', '生', '男', '白', '百', '聞', '行', '西', '見', '話', '語', '読', '車', '金', '長', '間', '雨', '電', '食', '高']\""
      ]
     },
     "execution_count": 6,
     "metadata": {},
     "output_type": "execute_result"
    }
   ],
   "source": [
    "labels_name = list(labels_name)\n",
    "str(labels_name)"
   ]
  },
  {
   "cell_type": "code",
   "execution_count": 44,
   "id": "6e7a58a5",
   "metadata": {
    "ExecuteTime": {
     "end_time": "2024-03-10T10:15:57.345045Z",
     "start_time": "2024-03-10T10:15:57.336045Z"
    }
   },
   "outputs": [
    {
     "data": {
      "text/plain": [
       "{0: '一',\n",
       " 1: '七',\n",
       " 2: '万',\n",
       " 3: '三',\n",
       " 4: '上',\n",
       " 5: '下',\n",
       " 6: '中',\n",
       " 7: '九',\n",
       " 8: '二',\n",
       " 9: '五',\n",
       " 10: '人',\n",
       " 11: '今',\n",
       " 12: '休',\n",
       " 13: '何',\n",
       " 14: '先',\n",
       " 15: '入',\n",
       " 16: '八',\n",
       " 17: '六',\n",
       " 18: '円',\n",
       " 19: '出',\n",
       " 20: '分',\n",
       " 21: '前',\n",
       " 22: '北',\n",
       " 23: '十',\n",
       " 24: '千',\n",
       " 25: '午',\n",
       " 26: '半',\n",
       " 27: '南',\n",
       " 28: '友',\n",
       " 29: '右',\n",
       " 30: '名',\n",
       " 31: '四',\n",
       " 32: '国',\n",
       " 33: '土',\n",
       " 34: '外',\n",
       " 35: '大',\n",
       " 36: '天',\n",
       " 37: '女',\n",
       " 38: '子',\n",
       " 39: '学',\n",
       " 40: '小',\n",
       " 41: '山',\n",
       " 42: '川',\n",
       " 43: '左',\n",
       " 44: '年',\n",
       " 45: '後',\n",
       " 46: '日',\n",
       " 47: '明',\n",
       " 48: '時',\n",
       " 49: '書',\n",
       " 50: '月',\n",
       " 51: '木',\n",
       " 52: '本',\n",
       " 53: '来',\n",
       " 54: '東',\n",
       " 55: '校',\n",
       " 56: '母',\n",
       " 57: '毎',\n",
       " 58: '気',\n",
       " 59: '水',\n",
       " 60: '火',\n",
       " 61: '父',\n",
       " 62: '生',\n",
       " 63: '男',\n",
       " 64: '白',\n",
       " 65: '百',\n",
       " 66: '聞',\n",
       " 67: '行',\n",
       " 68: '西',\n",
       " 69: '見',\n",
       " 70: '話',\n",
       " 71: '語',\n",
       " 72: '読',\n",
       " 73: '車',\n",
       " 74: '金',\n",
       " 75: '長',\n",
       " 76: '間',\n",
       " 77: '雨',\n",
       " 78: '電',\n",
       " 79: '食',\n",
       " 80: '高'}"
      ]
     },
     "execution_count": 44,
     "metadata": {},
     "output_type": "execute_result"
    }
   ],
   "source": [
    "# display as dict\n",
    "labels_dict = {}\n",
    "for i in range(len(labels_name)):\n",
    "    labels_dict[i] = labels_name[i]\n",
    "\n",
    "labels_dict    "
   ]
  },
  {
   "cell_type": "code",
   "execution_count": null,
   "id": "3e74bb89",
   "metadata": {},
   "outputs": [],
   "source": []
  }
 ],
 "metadata": {
  "kernelspec": {
   "display_name": "jp_data",
   "language": "python",
   "name": "jp_data"
  },
  "language_info": {
   "codemirror_mode": {
    "name": "ipython",
    "version": 3
   },
   "file_extension": ".py",
   "mimetype": "text/x-python",
   "name": "python",
   "nbconvert_exporter": "python",
   "pygments_lexer": "ipython3",
   "version": "3.7.16"
  }
 },
 "nbformat": 4,
 "nbformat_minor": 5
}
