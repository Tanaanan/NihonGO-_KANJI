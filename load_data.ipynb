{
 "cells": [
  {
   "cell_type": "code",
   "execution_count": null,
   "metadata": {},
   "outputs": [],
   "source": [
    "import requests\n",
    "import zipfile"
   ]
  },
  {
   "cell_type": "code",
   "execution_count": null,
   "metadata": {},
   "outputs": [],
   "source": [
    "def load(url, name, filename):\n",
    "    response = requests.get(url, stream=True)  # Stream download for efficiency\n",
    "    if response.status_code == 200:\n",
    "        with open(filename, 'wb') as f:\n",
    "            for chunk in response.iter_content(1024):  # Download in chunks\n",
    "                f.write(chunk)\n",
    "        print(name, 'download complete!')\n",
    "    else:\n",
    "        print('Error downloading file:', response.status_code)"
   ]
  },
  {
   "cell_type": "code",
   "execution_count": null,
   "metadata": {},
   "outputs": [],
   "source": [
    "url = 'https://firebasestorage.googleapis.com/v0/b/countdown-jobfiar.appspot.com/o/kanji_small.zip?alt=media&token=4167f478-91d1-44cc-8d9b-2425d764be97'\n",
    "model_url = 'https://firebasestorage.googleapis.com/v0/b/countdown-jobfiar.appspot.com/o/vgg16_model.h5?alt=media&token=8f1afebf-fc88-4755-a3b9-aeebc9802544'"
   ]
  },
  {
   "cell_type": "code",
   "execution_count": null,
   "metadata": {},
   "outputs": [],
   "source": [
    "load(url, 'kanji_small', 'kanji_small.zip')\n",
    "with zipfile.ZipFile('kanji_small.zip', 'r') as zip_ref:\n",
    "    zip_ref.extractall('./')  # Specify a desired extraction path\n",
    "print('Extraction kanji_small completed!')"
   ]
  },
  {
   "cell_type": "code",
   "execution_count": null,
   "metadata": {},
   "outputs": [],
   "source": [
    "load(model_url, 'model', 'vgg16_model.h5')"
   ]
  },
  {
   "cell_type": "code",
   "execution_count": null,
   "metadata": {},
   "outputs": [],
   "source": [
    "with zipfile.ZipFile('KanjiN5_dataset.zip', 'r') as zip_ref:\n",
    "    zip_ref.extractall('./')\n",
    "print('Extract KanjiN5_dataset completed!')"
   ]
  }
 ],
 "metadata": {
  "language_info": {
   "name": "python"
  }
 },
 "nbformat": 4,
 "nbformat_minor": 2
}
