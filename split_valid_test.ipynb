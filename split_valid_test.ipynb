{
 "cells": [
  {
   "cell_type": "code",
   "execution_count": 7,
   "metadata": {
    "ExecuteTime": {
     "end_time": "2024-02-22T19:36:14.395217Z",
     "start_time": "2024-02-22T19:36:14.389830Z"
    }
   },
   "outputs": [],
   "source": [
    "import os\n",
    "DATASET = './KanjiN5_normalize/'"
   ]
  },
  {
   "cell_type": "code",
   "execution_count": 8,
   "metadata": {
    "ExecuteTime": {
     "end_time": "2024-02-22T19:36:14.795085Z",
     "start_time": "2024-02-22T19:36:14.782005Z"
    }
   },
   "outputs": [],
   "source": [
    "import glob \n",
    "import shutil\n",
    "import os\n",
    "from math import floor, ceil"
   ]
  },
  {
   "cell_type": "code",
   "execution_count": 9,
   "metadata": {
    "ExecuteTime": {
     "end_time": "2024-02-22T19:36:15.583843Z",
     "start_time": "2024-02-22T19:36:15.573757Z"
    }
   },
   "outputs": [],
   "source": [
    "Train, Valid, Test = 7, 2, 1 # Ratio size (10)\n",
    "\n",
    "def split_size(Train_ratio, Valid_ratio , Test_ratio, n_img):\n",
    "    Train, Valid, Test = ceil((Train_ratio/10)*n_img) , floor((Valid_ratio/10)*n_img) , floor((Test_ratio/10)*n_img)\n",
    "    Train = Train + (n_img - (Train+Valid+Test)) # beware of missing floor\n",
    "    return Train , Valid , Test"
   ]
  },
  {
   "cell_type": "code",
   "execution_count": 11,
   "metadata": {
    "ExecuteTime": {
     "end_time": "2024-02-22T19:36:16.233763Z",
     "start_time": "2024-02-22T19:36:16.223678Z"
    }
   },
   "outputs": [],
   "source": [
    "train_folder = os.path.join(DATASET, \"Train\")\n",
    "try:\n",
    "    valid_folder = os.path.join(DATASET, \"Valid\")\n",
    "    test_folder = os.path.join(DATASET, \"Test\")\n",
    "except:\n",
    "    pass\n",
    "\n",
    "if not os.path.exists(os.path.join(DATASET, \"Valid\")):\n",
    "    os.mkdir(os.path.join(DATASET, \"Valid\"))\n",
    "    valid_folder = os.path.join(DATASET, \"Valid\")\n",
    "\n",
    "if not os.path.exists(os.path.join(DATASET, \"Test\")):\n",
    "    os.mkdir(os.path.join(DATASET, \"Test\"))\n",
    "    test_folder = os.path.join(DATASET, \"Test\")\n",
    "\n",
    "# for i in range(len(CATAGORIES)):\n",
    "#     os.mkdir()"
   ]
  },
  {
   "cell_type": "code",
   "execution_count": 12,
   "metadata": {
    "ExecuteTime": {
     "end_time": "2024-02-22T19:36:22.404815Z",
     "start_time": "2024-02-22T19:36:22.399397Z"
    }
   },
   "outputs": [
    {
     "data": {
      "text/plain": [
       "(['一',\n",
       "  '七',\n",
       "  '万',\n",
       "  '三',\n",
       "  '上',\n",
       "  '下',\n",
       "  '中',\n",
       "  '九',\n",
       "  '二',\n",
       "  '五',\n",
       "  '人',\n",
       "  '今',\n",
       "  '休',\n",
       "  '何',\n",
       "  '先',\n",
       "  '入',\n",
       "  '八',\n",
       "  '六',\n",
       "  '円',\n",
       "  '出',\n",
       "  '分',\n",
       "  '前',\n",
       "  '北',\n",
       "  '十',\n",
       "  '千',\n",
       "  '午',\n",
       "  '半',\n",
       "  '南',\n",
       "  '友',\n",
       "  '右',\n",
       "  '名',\n",
       "  '四',\n",
       "  '国',\n",
       "  '土',\n",
       "  '外',\n",
       "  '大',\n",
       "  '天',\n",
       "  '女',\n",
       "  '子',\n",
       "  '学',\n",
       "  '小',\n",
       "  '山',\n",
       "  '川',\n",
       "  '左',\n",
       "  '年',\n",
       "  '後',\n",
       "  '日',\n",
       "  '時',\n",
       "  '書',\n",
       "  '月',\n",
       "  '木',\n",
       "  '本',\n",
       "  '来',\n",
       "  '東',\n",
       "  '校',\n",
       "  '母',\n",
       "  '毎',\n",
       "  '気',\n",
       "  '水',\n",
       "  '火',\n",
       "  '父',\n",
       "  '生',\n",
       "  '男',\n",
       "  '白',\n",
       "  '百',\n",
       "  '聞',\n",
       "  '行',\n",
       "  '西',\n",
       "  '見',\n",
       "  '話',\n",
       "  '語',\n",
       "  '読',\n",
       "  '車',\n",
       "  '金',\n",
       "  '長',\n",
       "  '間',\n",
       "  '雨',\n",
       "  '電',\n",
       "  '食',\n",
       "  '高'],\n",
       " 80)"
      ]
     },
     "execution_count": 12,
     "metadata": {},
     "output_type": "execute_result"
    }
   ],
   "source": [
    "CATAGORIES = [name for name in os.listdir(train_folder)]\n",
    "CATAGORIES, len(CATAGORIES)"
   ]
  },
  {
   "cell_type": "code",
   "execution_count": 13,
   "metadata": {
    "ExecuteTime": {
     "end_time": "2024-02-22T19:36:24.948425Z",
     "start_time": "2024-02-22T19:36:24.931574Z"
    }
   },
   "outputs": [
    {
     "name": "stdout",
     "output_type": "stream",
     "text": [
      "['一', '七', '万', '三', '上', '下', '中', '九', '二', '五', '人', '今', '休', '何', '先', '入', '八', '六', '円', '出', '分', '前', '北', '十', '千', '午', '半', '南', '友', '右', '名', '四', '国', '土', '外', '大', '天', '女', '子', '学', '小', '山', '川', '左', '年', '後', '日', '時', '書', '月', '木', '本', '来', '東', '校', '母', '毎', '気', '水', '火', '父', '生', '男', '白', '百', '聞', '行', '西', '見', '話', '語', '読', '車', '金', '長', '間', '雨', '電', '食', '高']\n"
     ]
    }
   ],
   "source": [
    "print(CATAGORIES)"
   ]
  },
  {
   "cell_type": "code",
   "execution_count": 14,
   "metadata": {
    "ExecuteTime": {
     "end_time": "2024-02-22T19:36:33.276155Z",
     "start_time": "2024-02-22T19:36:33.269173Z"
    }
   },
   "outputs": [],
   "source": [
    "try:\n",
    "    # create label folder in valid and test folder\n",
    "    for label_folder in (CATAGORIES):\n",
    "        os.mkdir(os.path.join(valid_folder, label_folder))\n",
    "        os.mkdir(os.path.join(test_folder, label_folder))\n",
    "except FileExistsError:\n",
    "    print(\"Already make label folder dir !\")"
   ]
  },
  {
   "cell_type": "code",
   "execution_count": 15,
   "metadata": {
    "ExecuteTime": {
     "end_time": "2024-02-22T19:36:36.278659Z",
     "start_time": "2024-02-22T19:36:34.649066Z"
    }
   },
   "outputs": [
    {
     "name": "stdout",
     "output_type": "stream",
     "text": [
      "(113, 32, 16) 一\n",
      "(113, 32, 16) 七\n",
      "(113, 32, 16) 万\n",
      "(113, 32, 16) 三\n",
      "(113, 32, 16) 上\n",
      "(113, 32, 16) 下\n",
      "(113, 32, 16) 中\n",
      "(113, 32, 16) 九\n",
      "(113, 32, 16) 二\n",
      "(113, 32, 16) 五\n",
      "(113, 32, 16) 人\n",
      "(113, 32, 16) 今\n",
      "(113, 32, 16) 休\n",
      "(113, 32, 16) 何\n",
      "(113, 32, 16) 先\n",
      "(113, 32, 16) 入\n",
      "(113, 32, 16) 八\n",
      "(113, 32, 16) 六\n",
      "(113, 32, 16) 円\n",
      "(113, 32, 16) 出\n",
      "(113, 32, 16) 分\n",
      "(113, 32, 16) 前\n",
      "(113, 32, 16) 北\n",
      "(113, 32, 16) 十\n",
      "(113, 32, 16) 千\n",
      "(113, 32, 16) 午\n",
      "(113, 32, 16) 半\n",
      "(113, 32, 16) 南\n",
      "(113, 32, 16) 友\n",
      "(113, 32, 16) 右\n",
      "(113, 32, 16) 名\n",
      "(113, 32, 16) 四\n",
      "(113, 32, 16) 国\n",
      "(113, 32, 16) 土\n",
      "(113, 32, 16) 外\n",
      "(113, 32, 16) 大\n",
      "(113, 32, 16) 天\n",
      "(113, 32, 16) 女\n",
      "(113, 32, 16) 子\n",
      "(113, 32, 16) 学\n",
      "(113, 32, 16) 小\n",
      "(113, 32, 16) 山\n",
      "(113, 32, 16) 川\n",
      "(113, 32, 16) 左\n",
      "(113, 32, 16) 年\n",
      "(113, 32, 16) 後\n",
      "(113, 32, 16) 日\n",
      "(113, 32, 16) 時\n",
      "(113, 32, 16) 書\n",
      "(113, 32, 16) 月\n",
      "(113, 32, 16) 木\n",
      "(113, 32, 16) 本\n",
      "(113, 32, 16) 来\n",
      "(113, 32, 16) 東\n",
      "(113, 32, 16) 校\n",
      "(113, 32, 16) 母\n",
      "(113, 32, 16) 毎\n",
      "(113, 32, 16) 気\n",
      "(113, 32, 16) 水\n",
      "(113, 32, 16) 火\n",
      "(113, 32, 16) 父\n",
      "(113, 32, 16) 生\n",
      "(113, 32, 16) 男\n",
      "(113, 32, 16) 白\n",
      "(113, 32, 16) 百\n",
      "(113, 32, 16) 聞\n",
      "(113, 32, 16) 行\n",
      "(113, 32, 16) 西\n",
      "(113, 32, 16) 見\n",
      "(113, 32, 16) 話\n",
      "(113, 32, 16) 語\n",
      "(113, 32, 16) 読\n",
      "(113, 32, 16) 車\n",
      "(113, 32, 16) 金\n",
      "(113, 32, 16) 長\n",
      "(113, 32, 16) 間\n",
      "(113, 32, 16) 雨\n",
      "(113, 32, 16) 電\n",
      "(113, 32, 16) 食\n",
      "(113, 32, 16) 高\n"
     ]
    }
   ],
   "source": [
    "# split img from train set to validation and test set on fixed ratio.\n",
    "for label_folder in CATAGORIES:\n",
    "    train_path = os.path.join(train_folder, label_folder)\n",
    "    valid_path = os.path.join(valid_folder, label_folder)\n",
    "    test_path = os.path.join(test_folder, label_folder)\n",
    "    file_amout = len([n for n in os.listdir(train_path)])\n",
    "    ratio_split = split_size(Train, Valid, Test, file_amout)\n",
    "    print(ratio_split, label_folder)\n",
    "    tmp = 0\n",
    "    for file in os.listdir(train_path):\n",
    "        if tmp <= ratio_split[2]:\n",
    "            shutil.move(os.path.join(train_path, file), os.path.join(test_path, file))\n",
    "        elif tmp <= ratio_split[1] + ratio_split[2]:\n",
    "            shutil.move(os.path.join(train_path, file), os.path.join(valid_path, file))\n",
    "        else:\n",
    "            break\n",
    "        tmp += 1\n",
    "            \n",
    "\n",
    "        "
   ]
  },
  {
   "cell_type": "code",
   "execution_count": null,
   "metadata": {},
   "outputs": [],
   "source": []
  }
 ],
 "metadata": {
  "kernelspec": {
   "display_name": "Python 3",
   "language": "python",
   "name": "python3"
  },
  "language_info": {
   "codemirror_mode": {
    "name": "ipython",
    "version": 3
   },
   "file_extension": ".py",
   "mimetype": "text/x-python",
   "name": "python",
   "nbconvert_exporter": "python",
   "pygments_lexer": "ipython3",
   "version": "3.6.5"
  }
 },
 "nbformat": 4,
 "nbformat_minor": 5
}
